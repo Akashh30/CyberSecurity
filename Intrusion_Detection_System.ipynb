{
  "cells": [
    {
      "cell_type": "markdown",
      "metadata": {
        "id": "view-in-github",
        "colab_type": "text"
      },
      "source": [
        "<a href=\"https://colab.research.google.com/github/Akashh30/CyberSecurity/blob/main/Intrusion_Detection_System.ipynb\" target=\"_parent\"><img src=\"https://colab.research.google.com/assets/colab-badge.svg\" alt=\"Open In Colab\"/></a>"
      ]
    },
    {
      "cell_type": "code",
      "execution_count": null,
      "metadata": {
        "id": "TlP80gwVpatE"
      },
      "outputs": [],
      "source": [
        "#Importing libraries\n",
        "import pandas as pd\n",
        "import numpy as np\n",
        "import matplotlib.pyplot as plt\n",
        "import seaborn as sns\n",
        "import os"
      ]
    },
    {
      "cell_type": "markdown",
      "metadata": {
        "id": "kYBnfNktpgkL"
      },
      "source": [
        "# New section"
      ]
    },
    {
      "cell_type": "code",
      "execution_count": null,
      "metadata": {
        "colab": {
          "base_uri": "https://localhost:8080/"
        },
        "id": "emq0EFxGptbD",
        "outputId": "5ca1ba97-de58-4ba8-8d32-81014721e02c"
      },
      "outputs": [
        {
          "output_type": "stream",
          "name": "stdout",
          "text": [
            "back,buffer_overflow,ftp_write,guess_passwd,imap,ipsweep,land,loadmodule,multihop,neptune,nmap,normal,perl,phf,pod,portsweep,rootkit,satan,smurf,spy,teardrop,warezclient,warezmaster.\n",
            "duration: continuous.\n",
            "protocol_type: symbolic.\n",
            "service: symbolic.\n",
            "flag: symbolic.\n",
            "src_bytes: continuous.\n",
            "dst_bytes: continuous.\n",
            "land: symbolic.\n",
            "wrong_fragment: continuous.\n",
            "urgent: continuous.\n",
            "hot: continuous.\n",
            "num_failed_logins: continuous.\n",
            "logged_in: symbolic.\n",
            "num_compromised: continuous.\n",
            "root_shell: continuous.\n",
            "su_attempted: continuous.\n",
            "num_root: continuous.\n",
            "num_file_creations: continuous.\n",
            "num_shells: continuous.\n",
            "num_access_files: continuous.\n",
            "num_outbound_cmds: continuous.\n",
            "is_host_login: symbolic.\n",
            "is_guest_login: symbolic.\n",
            "count: continuous.\n",
            "srv_count: continuous.\n",
            "serror_rate: continuous.\n",
            "srv_serror_rate: continuous.\n",
            "rerror_rate: continuous.\n",
            "srv_rerror_rate: continuous.\n",
            "same_srv_rate: continuous.\n",
            "diff_srv_rate: continuous.\n",
            "srv_diff_host_rate: continuous.\n",
            "dst_host_count: continuous.\n",
            "dst_host_srv_count: continuous.\n",
            "dst_host_same_srv_rate: continuous.\n",
            "dst_host_diff_srv_rate: continuous.\n",
            "dst_host_same_src_port_rate: continuous.\n",
            "dst_host_srv_diff_host_rate: continuous.\n",
            "dst_host_serror_rate: continuous.\n",
            "dst_host_srv_serror_rate: continuous.\n",
            "dst_host_rerror_rate: continuous.\n",
            "dst_host_srv_rerror_rate: continuous.\n",
            "\n"
          ]
        }
      ],
      "source": [
        "#This file contains the names and descriptions of the columns (features) in the dataset.\n",
        "with open(\"kddcup.names\",'r') as f:\n",
        "  print(f.read())"
      ]
    },
    {
      "cell_type": "code",
      "execution_count": null,
      "metadata": {
        "id": "qvEQJ0earGvl"
      },
      "outputs": [],
      "source": [
        "# List of column names\n",
        "cols =\"\"\"duration,\n",
        "protocol_type,\n",
        "service,\n",
        "flag,\n",
        "src_bytes,\n",
        "dst_bytes,\n",
        "land,\n",
        "wrong_fragment,\n",
        "urgent,\n",
        "hot,\n",
        "num_failed_logins,\n",
        "logged_in,\n",
        "num_compromised,\n",
        "root_shell,\n",
        "su_attempted,\n",
        "num_root,\n",
        "num_file_creations,\n",
        "num_shells,\n",
        "num_access_files,\n",
        "num_outbound_cmds,\n",
        "is_host_login,\n",
        "is_guest_login,\n",
        "count,\n",
        "srv_count,\n",
        "serror_rate,\n",
        "srv_serror_rate,\n",
        "rerror_rate,\n",
        "srv_rerror_rate,\n",
        "same_srv_rate,\n",
        "diff_srv_rate,\n",
        "srv_diff_host_rate,\n",
        "dst_host_count,\n",
        "dst_host_srv_count,\n",
        "dst_host_same_srv_rate,\n",
        "dst_host_diff_srv_rate,\n",
        "dst_host_same_src_port_rate,\n",
        "dst_host_srv_diff_host_rate,\n",
        "dst_host_serror_rate,\n",
        "dst_host_srv_serror_rate,\n",
        "dst_host_rerror_rate,\n",
        "dst_host_srv_rerror_rate\"\"\""
      ]
    },
    {
      "cell_type": "code",
      "execution_count": null,
      "metadata": {
        "colab": {
          "base_uri": "https://localhost:8080/"
        },
        "id": "wyaz483GrWgj",
        "outputId": "136976b5-c49b-4e8a-96b0-a5dd11efddae"
      },
      "outputs": [
        {
          "output_type": "stream",
          "name": "stdout",
          "text": [
            "duration,\n",
            "protocol_type,\n",
            "service,\n",
            "flag,\n",
            "src_bytes,\n",
            "dst_bytes,\n",
            "land,\n",
            "wrong_fragment,\n",
            "urgent,\n",
            "hot,\n",
            "num_failed_logins,\n",
            "logged_in,\n",
            "num_compromised,\n",
            "root_shell,\n",
            "su_attempted,\n",
            "num_root,\n",
            "num_file_creations,\n",
            "num_shells,\n",
            "num_access_files,\n",
            "num_outbound_cmds,\n",
            "is_host_login,\n",
            "is_guest_login,\n",
            "count,\n",
            "srv_count,\n",
            "serror_rate,\n",
            "srv_serror_rate,\n",
            "rerror_rate,\n",
            "srv_rerror_rate,\n",
            "same_srv_rate,\n",
            "diff_srv_rate,\n",
            "srv_diff_host_rate,\n",
            "dst_host_count,\n",
            "dst_host_srv_count,\n",
            "dst_host_same_srv_rate,\n",
            "dst_host_diff_srv_rate,\n",
            "dst_host_same_src_port_rate,\n",
            "dst_host_srv_diff_host_rate,\n",
            "dst_host_serror_rate,\n",
            "dst_host_srv_serror_rate,\n",
            "dst_host_rerror_rate,\n",
            "dst_host_srv_rerror_rate\n"
          ]
        }
      ],
      "source": [
        "print(cols)"
      ]
    },
    {
      "cell_type": "code",
      "execution_count": null,
      "metadata": {
        "colab": {
          "base_uri": "https://localhost:8080/"
        },
        "id": "W7XksFzMrYIg",
        "outputId": "19a2e0bc-bd36-47d4-bf74-cbebb75b7fb9"
      },
      "outputs": [
        {
          "output_type": "stream",
          "name": "stdout",
          "text": [
            "42\n"
          ]
        }
      ],
      "source": [
        "# Splitting this cols string by commas and removing any leading or trailing whitespace\n",
        "# using strip() and appending the cleaned column names to the columns list.\n",
        "columns =[]\n",
        "for c in cols.split(','):\n",
        "    if(c.strip()):\n",
        "       columns.append(c.strip())\n",
        "\n",
        "# Added 'target' column to the list of column names\n",
        "columns.append('target')\n",
        "print(len(columns))"
      ]
    },
    {
      "cell_type": "code",
      "execution_count": null,
      "metadata": {
        "colab": {
          "base_uri": "https://localhost:8080/"
        },
        "id": "xSYI5KEZsnvD",
        "outputId": "80cacc3f-2814-4b5c-9617-f74bbeba0740"
      },
      "outputs": [
        {
          "output_type": "stream",
          "name": "stdout",
          "text": [
            "back dos\n",
            "buffer_overflow u2r\n",
            "ftp_write r2l\n",
            "guess_passwd r2l\n",
            "imap r2l\n",
            "ipsweep probe\n",
            "land dos\n",
            "loadmodule u2r\n",
            "multihop r2l\n",
            "neptune dos\n",
            "nmap probe\n",
            "perl u2r\n",
            "phf r2l\n",
            "pod dos\n",
            "portsweep probe\n",
            "rootkit u2r\n",
            "satan probe\n",
            "smurf dos\n",
            "spy r2l\n",
            "teardrop dos\n",
            "warezclient r2l\n",
            "warezmaster r2l\n",
            "\n",
            "\n"
          ]
        }
      ],
      "source": [
        "# This file contains various attack types\n",
        "with open(\"training_attack_types\",'r') as f:\n",
        "  print(f.read())"
      ]
    },
    {
      "cell_type": "code",
      "execution_count": null,
      "metadata": {
        "id": "Tv-INcNcswPH"
      },
      "outputs": [],
      "source": [
        "# This dictionary maps specific attack types to broader categories\n",
        "attack_types = {\n",
        "    'normal': 'normal',\n",
        "'back': 'dos',\n",
        "'buffer_overflow': 'u2r',\n",
        "'ftp_write': 'r2l',\n",
        "'guess_passwd': 'r2l',\n",
        "'imap': 'r2l',\n",
        "'ipsweep': 'probe',\n",
        "'land': 'dos',\n",
        "'loadmodule': 'u2r',\n",
        "'multihop': 'r2l',\n",
        "'neptune': 'dos',\n",
        "'nmap': 'probe',\n",
        "'perl': 'u2r',\n",
        "'phf': 'r2l',\n",
        "'pod': 'dos',\n",
        "'portsweep': 'probe',\n",
        "'rootkit': 'u2r',\n",
        "'satan': 'probe',\n",
        "'smurf': 'dos',\n",
        "'spy': 'r2l',\n",
        "'teardrop': 'dos',\n",
        "'warezclient': 'r2l',\n",
        "'warezmaster': 'r2l',\n",
        "}"
      ]
    },
    {
      "cell_type": "code",
      "execution_count": null,
      "metadata": {
        "colab": {
          "base_uri": "https://localhost:8080/"
        },
        "id": "ps5D2bdAuFvB",
        "outputId": "f50df3ad-d95c-4481-8d1a-ae52b01f0150"
      },
      "outputs": [
        {
          "output_type": "stream",
          "name": "stdout",
          "text": [
            "{'normal': 'normal', 'back': 'dos', 'buffer_overflow': 'u2r', 'ftp_write': 'r2l', 'guess_passwd': 'r2l', 'imap': 'r2l', 'ipsweep': 'probe', 'land': 'dos', 'loadmodule': 'u2r', 'multihop': 'r2l', 'neptune': 'dos', 'nmap': 'probe', 'perl': 'u2r', 'phf': 'r2l', 'pod': 'dos', 'portsweep': 'probe', 'rootkit': 'u2r', 'satan': 'probe', 'smurf': 'dos', 'spy': 'r2l', 'teardrop': 'dos', 'warezclient': 'r2l', 'warezmaster': 'r2l'}\n"
          ]
        }
      ],
      "source": [
        "print(attack_types)"
      ]
    },
    {
      "cell_type": "code",
      "execution_count": null,
      "metadata": {
        "id": "YQiEHznkuJWe"
      },
      "outputs": [],
      "source": [
        "# Reading the main dataset\n",
        "# The names parameter is used to specify the column names\n",
        "df = pd.read_csv('kddcup.data_10_percent_corrected',names = columns)\n",
        "#df['Attack Type'] = df.target.apply(lambda r:attack_types[r[:-1]])\n",
        "df['Attack Type'] = df.target.astype(str).apply(lambda r: attack_types.get(r[:-1], 'unknown'))\n",
        "# Adding a new column 'Attack Type' to our DataFrame\n",
        "# It takes the values from the 'target' column and converts them to strings"
      ]
    },
    {
      "cell_type": "code",
      "execution_count": null,
      "metadata": {
        "colab": {
          "base_uri": "https://localhost:8080/",
          "height": 273
        },
        "id": "cYjmDSxwvWW8",
        "outputId": "401ea3b3-37ec-4d52-f060-9fe4b0b74681"
      },
      "outputs": [
        {
          "output_type": "execute_result",
          "data": {
            "text/plain": [
              "   duration protocol_type service flag  src_bytes  dst_bytes  land  \\\n",
              "0         0           tcp    http   SF        181       5450     0   \n",
              "1         0           tcp    http   SF        239        486     0   \n",
              "2         0           tcp    http   SF        235       1337     0   \n",
              "3         0           tcp    http   SF        219       1337     0   \n",
              "4         0           tcp    http   SF        217       2032     0   \n",
              "\n",
              "   wrong_fragment  urgent  hot  ...  dst_host_same_srv_rate  \\\n",
              "0               0       0    0  ...                     1.0   \n",
              "1               0       0    0  ...                     1.0   \n",
              "2               0       0    0  ...                     1.0   \n",
              "3               0       0    0  ...                     1.0   \n",
              "4               0       0    0  ...                     1.0   \n",
              "\n",
              "   dst_host_diff_srv_rate  dst_host_same_src_port_rate  \\\n",
              "0                     0.0                         0.11   \n",
              "1                     0.0                         0.05   \n",
              "2                     0.0                         0.03   \n",
              "3                     0.0                         0.03   \n",
              "4                     0.0                         0.02   \n",
              "\n",
              "   dst_host_srv_diff_host_rate  dst_host_serror_rate  \\\n",
              "0                          0.0                   0.0   \n",
              "1                          0.0                   0.0   \n",
              "2                          0.0                   0.0   \n",
              "3                          0.0                   0.0   \n",
              "4                          0.0                   0.0   \n",
              "\n",
              "   dst_host_srv_serror_rate  dst_host_rerror_rate  dst_host_srv_rerror_rate  \\\n",
              "0                       0.0                   0.0                       0.0   \n",
              "1                       0.0                   0.0                       0.0   \n",
              "2                       0.0                   0.0                       0.0   \n",
              "3                       0.0                   0.0                       0.0   \n",
              "4                       0.0                   0.0                       0.0   \n",
              "\n",
              "    target  Attack Type  \n",
              "0  normal.       normal  \n",
              "1  normal.       normal  \n",
              "2  normal.       normal  \n",
              "3  normal.       normal  \n",
              "4  normal.       normal  \n",
              "\n",
              "[5 rows x 43 columns]"
            ],
            "text/html": [
              "\n",
              "  <div id=\"df-49dbe476-0a86-47a7-b9eb-b55abcc57c1e\" class=\"colab-df-container\">\n",
              "    <div>\n",
              "<style scoped>\n",
              "    .dataframe tbody tr th:only-of-type {\n",
              "        vertical-align: middle;\n",
              "    }\n",
              "\n",
              "    .dataframe tbody tr th {\n",
              "        vertical-align: top;\n",
              "    }\n",
              "\n",
              "    .dataframe thead th {\n",
              "        text-align: right;\n",
              "    }\n",
              "</style>\n",
              "<table border=\"1\" class=\"dataframe\">\n",
              "  <thead>\n",
              "    <tr style=\"text-align: right;\">\n",
              "      <th></th>\n",
              "      <th>duration</th>\n",
              "      <th>protocol_type</th>\n",
              "      <th>service</th>\n",
              "      <th>flag</th>\n",
              "      <th>src_bytes</th>\n",
              "      <th>dst_bytes</th>\n",
              "      <th>land</th>\n",
              "      <th>wrong_fragment</th>\n",
              "      <th>urgent</th>\n",
              "      <th>hot</th>\n",
              "      <th>...</th>\n",
              "      <th>dst_host_same_srv_rate</th>\n",
              "      <th>dst_host_diff_srv_rate</th>\n",
              "      <th>dst_host_same_src_port_rate</th>\n",
              "      <th>dst_host_srv_diff_host_rate</th>\n",
              "      <th>dst_host_serror_rate</th>\n",
              "      <th>dst_host_srv_serror_rate</th>\n",
              "      <th>dst_host_rerror_rate</th>\n",
              "      <th>dst_host_srv_rerror_rate</th>\n",
              "      <th>target</th>\n",
              "      <th>Attack Type</th>\n",
              "    </tr>\n",
              "  </thead>\n",
              "  <tbody>\n",
              "    <tr>\n",
              "      <th>0</th>\n",
              "      <td>0</td>\n",
              "      <td>tcp</td>\n",
              "      <td>http</td>\n",
              "      <td>SF</td>\n",
              "      <td>181</td>\n",
              "      <td>5450</td>\n",
              "      <td>0</td>\n",
              "      <td>0</td>\n",
              "      <td>0</td>\n",
              "      <td>0</td>\n",
              "      <td>...</td>\n",
              "      <td>1.0</td>\n",
              "      <td>0.0</td>\n",
              "      <td>0.11</td>\n",
              "      <td>0.0</td>\n",
              "      <td>0.0</td>\n",
              "      <td>0.0</td>\n",
              "      <td>0.0</td>\n",
              "      <td>0.0</td>\n",
              "      <td>normal.</td>\n",
              "      <td>normal</td>\n",
              "    </tr>\n",
              "    <tr>\n",
              "      <th>1</th>\n",
              "      <td>0</td>\n",
              "      <td>tcp</td>\n",
              "      <td>http</td>\n",
              "      <td>SF</td>\n",
              "      <td>239</td>\n",
              "      <td>486</td>\n",
              "      <td>0</td>\n",
              "      <td>0</td>\n",
              "      <td>0</td>\n",
              "      <td>0</td>\n",
              "      <td>...</td>\n",
              "      <td>1.0</td>\n",
              "      <td>0.0</td>\n",
              "      <td>0.05</td>\n",
              "      <td>0.0</td>\n",
              "      <td>0.0</td>\n",
              "      <td>0.0</td>\n",
              "      <td>0.0</td>\n",
              "      <td>0.0</td>\n",
              "      <td>normal.</td>\n",
              "      <td>normal</td>\n",
              "    </tr>\n",
              "    <tr>\n",
              "      <th>2</th>\n",
              "      <td>0</td>\n",
              "      <td>tcp</td>\n",
              "      <td>http</td>\n",
              "      <td>SF</td>\n",
              "      <td>235</td>\n",
              "      <td>1337</td>\n",
              "      <td>0</td>\n",
              "      <td>0</td>\n",
              "      <td>0</td>\n",
              "      <td>0</td>\n",
              "      <td>...</td>\n",
              "      <td>1.0</td>\n",
              "      <td>0.0</td>\n",
              "      <td>0.03</td>\n",
              "      <td>0.0</td>\n",
              "      <td>0.0</td>\n",
              "      <td>0.0</td>\n",
              "      <td>0.0</td>\n",
              "      <td>0.0</td>\n",
              "      <td>normal.</td>\n",
              "      <td>normal</td>\n",
              "    </tr>\n",
              "    <tr>\n",
              "      <th>3</th>\n",
              "      <td>0</td>\n",
              "      <td>tcp</td>\n",
              "      <td>http</td>\n",
              "      <td>SF</td>\n",
              "      <td>219</td>\n",
              "      <td>1337</td>\n",
              "      <td>0</td>\n",
              "      <td>0</td>\n",
              "      <td>0</td>\n",
              "      <td>0</td>\n",
              "      <td>...</td>\n",
              "      <td>1.0</td>\n",
              "      <td>0.0</td>\n",
              "      <td>0.03</td>\n",
              "      <td>0.0</td>\n",
              "      <td>0.0</td>\n",
              "      <td>0.0</td>\n",
              "      <td>0.0</td>\n",
              "      <td>0.0</td>\n",
              "      <td>normal.</td>\n",
              "      <td>normal</td>\n",
              "    </tr>\n",
              "    <tr>\n",
              "      <th>4</th>\n",
              "      <td>0</td>\n",
              "      <td>tcp</td>\n",
              "      <td>http</td>\n",
              "      <td>SF</td>\n",
              "      <td>217</td>\n",
              "      <td>2032</td>\n",
              "      <td>0</td>\n",
              "      <td>0</td>\n",
              "      <td>0</td>\n",
              "      <td>0</td>\n",
              "      <td>...</td>\n",
              "      <td>1.0</td>\n",
              "      <td>0.0</td>\n",
              "      <td>0.02</td>\n",
              "      <td>0.0</td>\n",
              "      <td>0.0</td>\n",
              "      <td>0.0</td>\n",
              "      <td>0.0</td>\n",
              "      <td>0.0</td>\n",
              "      <td>normal.</td>\n",
              "      <td>normal</td>\n",
              "    </tr>\n",
              "  </tbody>\n",
              "</table>\n",
              "<p>5 rows × 43 columns</p>\n",
              "</div>\n",
              "    <div class=\"colab-df-buttons\">\n",
              "\n",
              "  <div class=\"colab-df-container\">\n",
              "    <button class=\"colab-df-convert\" onclick=\"convertToInteractive('df-49dbe476-0a86-47a7-b9eb-b55abcc57c1e')\"\n",
              "            title=\"Convert this dataframe to an interactive table.\"\n",
              "            style=\"display:none;\">\n",
              "\n",
              "  <svg xmlns=\"http://www.w3.org/2000/svg\" height=\"24px\" viewBox=\"0 -960 960 960\">\n",
              "    <path d=\"M120-120v-720h720v720H120Zm60-500h600v-160H180v160Zm220 220h160v-160H400v160Zm0 220h160v-160H400v160ZM180-400h160v-160H180v160Zm440 0h160v-160H620v160ZM180-180h160v-160H180v160Zm440 0h160v-160H620v160Z\"/>\n",
              "  </svg>\n",
              "    </button>\n",
              "\n",
              "  <style>\n",
              "    .colab-df-container {\n",
              "      display:flex;\n",
              "      gap: 12px;\n",
              "    }\n",
              "\n",
              "    .colab-df-convert {\n",
              "      background-color: #E8F0FE;\n",
              "      border: none;\n",
              "      border-radius: 50%;\n",
              "      cursor: pointer;\n",
              "      display: none;\n",
              "      fill: #1967D2;\n",
              "      height: 32px;\n",
              "      padding: 0 0 0 0;\n",
              "      width: 32px;\n",
              "    }\n",
              "\n",
              "    .colab-df-convert:hover {\n",
              "      background-color: #E2EBFA;\n",
              "      box-shadow: 0px 1px 2px rgba(60, 64, 67, 0.3), 0px 1px 3px 1px rgba(60, 64, 67, 0.15);\n",
              "      fill: #174EA6;\n",
              "    }\n",
              "\n",
              "    .colab-df-buttons div {\n",
              "      margin-bottom: 4px;\n",
              "    }\n",
              "\n",
              "    [theme=dark] .colab-df-convert {\n",
              "      background-color: #3B4455;\n",
              "      fill: #D2E3FC;\n",
              "    }\n",
              "\n",
              "    [theme=dark] .colab-df-convert:hover {\n",
              "      background-color: #434B5C;\n",
              "      box-shadow: 0px 1px 3px 1px rgba(0, 0, 0, 0.15);\n",
              "      filter: drop-shadow(0px 1px 2px rgba(0, 0, 0, 0.3));\n",
              "      fill: #FFFFFF;\n",
              "    }\n",
              "  </style>\n",
              "\n",
              "    <script>\n",
              "      const buttonEl =\n",
              "        document.querySelector('#df-49dbe476-0a86-47a7-b9eb-b55abcc57c1e button.colab-df-convert');\n",
              "      buttonEl.style.display =\n",
              "        google.colab.kernel.accessAllowed ? 'block' : 'none';\n",
              "\n",
              "      async function convertToInteractive(key) {\n",
              "        const element = document.querySelector('#df-49dbe476-0a86-47a7-b9eb-b55abcc57c1e');\n",
              "        const dataTable =\n",
              "          await google.colab.kernel.invokeFunction('convertToInteractive',\n",
              "                                                    [key], {});\n",
              "        if (!dataTable) return;\n",
              "\n",
              "        const docLinkHtml = 'Like what you see? Visit the ' +\n",
              "          '<a target=\"_blank\" href=https://colab.research.google.com/notebooks/data_table.ipynb>data table notebook</a>'\n",
              "          + ' to learn more about interactive tables.';\n",
              "        element.innerHTML = '';\n",
              "        dataTable['output_type'] = 'display_data';\n",
              "        await google.colab.output.renderOutput(dataTable, element);\n",
              "        const docLink = document.createElement('div');\n",
              "        docLink.innerHTML = docLinkHtml;\n",
              "        element.appendChild(docLink);\n",
              "      }\n",
              "    </script>\n",
              "  </div>\n",
              "\n",
              "\n",
              "<div id=\"df-38579ed3-2add-47d4-abdd-1210bcd7509a\">\n",
              "  <button class=\"colab-df-quickchart\" onclick=\"quickchart('df-38579ed3-2add-47d4-abdd-1210bcd7509a')\"\n",
              "            title=\"Suggest charts.\"\n",
              "            style=\"display:none;\">\n",
              "\n",
              "<svg xmlns=\"http://www.w3.org/2000/svg\" height=\"24px\"viewBox=\"0 0 24 24\"\n",
              "     width=\"24px\">\n",
              "    <g>\n",
              "        <path d=\"M19 3H5c-1.1 0-2 .9-2 2v14c0 1.1.9 2 2 2h14c1.1 0 2-.9 2-2V5c0-1.1-.9-2-2-2zM9 17H7v-7h2v7zm4 0h-2V7h2v10zm4 0h-2v-4h2v4z\"/>\n",
              "    </g>\n",
              "</svg>\n",
              "  </button>\n",
              "\n",
              "<style>\n",
              "  .colab-df-quickchart {\n",
              "      --bg-color: #E8F0FE;\n",
              "      --fill-color: #1967D2;\n",
              "      --hover-bg-color: #E2EBFA;\n",
              "      --hover-fill-color: #174EA6;\n",
              "      --disabled-fill-color: #AAA;\n",
              "      --disabled-bg-color: #DDD;\n",
              "  }\n",
              "\n",
              "  [theme=dark] .colab-df-quickchart {\n",
              "      --bg-color: #3B4455;\n",
              "      --fill-color: #D2E3FC;\n",
              "      --hover-bg-color: #434B5C;\n",
              "      --hover-fill-color: #FFFFFF;\n",
              "      --disabled-bg-color: #3B4455;\n",
              "      --disabled-fill-color: #666;\n",
              "  }\n",
              "\n",
              "  .colab-df-quickchart {\n",
              "    background-color: var(--bg-color);\n",
              "    border: none;\n",
              "    border-radius: 50%;\n",
              "    cursor: pointer;\n",
              "    display: none;\n",
              "    fill: var(--fill-color);\n",
              "    height: 32px;\n",
              "    padding: 0;\n",
              "    width: 32px;\n",
              "  }\n",
              "\n",
              "  .colab-df-quickchart:hover {\n",
              "    background-color: var(--hover-bg-color);\n",
              "    box-shadow: 0 1px 2px rgba(60, 64, 67, 0.3), 0 1px 3px 1px rgba(60, 64, 67, 0.15);\n",
              "    fill: var(--button-hover-fill-color);\n",
              "  }\n",
              "\n",
              "  .colab-df-quickchart-complete:disabled,\n",
              "  .colab-df-quickchart-complete:disabled:hover {\n",
              "    background-color: var(--disabled-bg-color);\n",
              "    fill: var(--disabled-fill-color);\n",
              "    box-shadow: none;\n",
              "  }\n",
              "\n",
              "  .colab-df-spinner {\n",
              "    border: 2px solid var(--fill-color);\n",
              "    border-color: transparent;\n",
              "    border-bottom-color: var(--fill-color);\n",
              "    animation:\n",
              "      spin 1s steps(1) infinite;\n",
              "  }\n",
              "\n",
              "  @keyframes spin {\n",
              "    0% {\n",
              "      border-color: transparent;\n",
              "      border-bottom-color: var(--fill-color);\n",
              "      border-left-color: var(--fill-color);\n",
              "    }\n",
              "    20% {\n",
              "      border-color: transparent;\n",
              "      border-left-color: var(--fill-color);\n",
              "      border-top-color: var(--fill-color);\n",
              "    }\n",
              "    30% {\n",
              "      border-color: transparent;\n",
              "      border-left-color: var(--fill-color);\n",
              "      border-top-color: var(--fill-color);\n",
              "      border-right-color: var(--fill-color);\n",
              "    }\n",
              "    40% {\n",
              "      border-color: transparent;\n",
              "      border-right-color: var(--fill-color);\n",
              "      border-top-color: var(--fill-color);\n",
              "    }\n",
              "    60% {\n",
              "      border-color: transparent;\n",
              "      border-right-color: var(--fill-color);\n",
              "    }\n",
              "    80% {\n",
              "      border-color: transparent;\n",
              "      border-right-color: var(--fill-color);\n",
              "      border-bottom-color: var(--fill-color);\n",
              "    }\n",
              "    90% {\n",
              "      border-color: transparent;\n",
              "      border-bottom-color: var(--fill-color);\n",
              "    }\n",
              "  }\n",
              "</style>\n",
              "\n",
              "  <script>\n",
              "    async function quickchart(key) {\n",
              "      const quickchartButtonEl =\n",
              "        document.querySelector('#' + key + ' button');\n",
              "      quickchartButtonEl.disabled = true;  // To prevent multiple clicks.\n",
              "      quickchartButtonEl.classList.add('colab-df-spinner');\n",
              "      try {\n",
              "        const charts = await google.colab.kernel.invokeFunction(\n",
              "            'suggestCharts', [key], {});\n",
              "      } catch (error) {\n",
              "        console.error('Error during call to suggestCharts:', error);\n",
              "      }\n",
              "      quickchartButtonEl.classList.remove('colab-df-spinner');\n",
              "      quickchartButtonEl.classList.add('colab-df-quickchart-complete');\n",
              "    }\n",
              "    (() => {\n",
              "      let quickchartButtonEl =\n",
              "        document.querySelector('#df-38579ed3-2add-47d4-abdd-1210bcd7509a button');\n",
              "      quickchartButtonEl.style.display =\n",
              "        google.colab.kernel.accessAllowed ? 'block' : 'none';\n",
              "    })();\n",
              "  </script>\n",
              "</div>\n",
              "    </div>\n",
              "  </div>\n"
            ]
          },
          "metadata": {},
          "execution_count": 10
        }
      ],
      "source": [
        "df.head()"
      ]
    },
    {
      "cell_type": "code",
      "execution_count": null,
      "metadata": {
        "id": "7cTshRX62CYp"
      },
      "outputs": [],
      "source": [
        "# Dropping null values\n",
        "#df.dropna(inplace=True)"
      ]
    },
    {
      "cell_type": "code",
      "execution_count": null,
      "metadata": {
        "colab": {
          "base_uri": "https://localhost:8080/"
        },
        "id": "S8c59sk3zSe9",
        "outputId": "024184aa-dbbe-4f50-efac-1eeee207c8d1"
      },
      "outputs": [
        {
          "output_type": "execute_result",
          "data": {
            "text/plain": [
              "duration                       0\n",
              "protocol_type                  0\n",
              "service                        0\n",
              "flag                           0\n",
              "src_bytes                      0\n",
              "dst_bytes                      0\n",
              "land                           0\n",
              "wrong_fragment                 0\n",
              "urgent                         0\n",
              "hot                            0\n",
              "num_failed_logins              0\n",
              "logged_in                      0\n",
              "num_compromised                0\n",
              "root_shell                     0\n",
              "su_attempted                   0\n",
              "num_root                       0\n",
              "num_file_creations             0\n",
              "num_shells                     0\n",
              "num_access_files               0\n",
              "num_outbound_cmds              0\n",
              "is_host_login                  0\n",
              "is_guest_login                 0\n",
              "count                          0\n",
              "srv_count                      0\n",
              "serror_rate                    0\n",
              "srv_serror_rate                0\n",
              "rerror_rate                    0\n",
              "srv_rerror_rate                0\n",
              "same_srv_rate                  0\n",
              "diff_srv_rate                  0\n",
              "srv_diff_host_rate             0\n",
              "dst_host_count                 0\n",
              "dst_host_srv_count             0\n",
              "dst_host_same_srv_rate         0\n",
              "dst_host_diff_srv_rate         0\n",
              "dst_host_same_src_port_rate    0\n",
              "dst_host_srv_diff_host_rate    0\n",
              "dst_host_serror_rate           1\n",
              "dst_host_srv_serror_rate       1\n",
              "dst_host_rerror_rate           1\n",
              "dst_host_srv_rerror_rate       1\n",
              "target                         1\n",
              "Attack Type                    0\n",
              "dtype: int64"
            ]
          },
          "metadata": {},
          "execution_count": 12
        }
      ],
      "source": [
        "# Checking presence of null values\n",
        "df.isnull().sum()"
      ]
    },
    {
      "cell_type": "code",
      "execution_count": null,
      "metadata": {
        "colab": {
          "base_uri": "https://localhost:8080/"
        },
        "id": "LPKR3wCUCU9n",
        "outputId": "13d5d023-ac47-41f6-c7f3-beb1fb9d3678"
      },
      "outputs": [
        {
          "output_type": "execute_result",
          "data": {
            "text/plain": [
              "normal.             39298\n",
              "smurf.              11258\n",
              "neptune.             2185\n",
              "back.                2002\n",
              "ipsweep.              658\n",
              "nmap.                 130\n",
              "teardrop.              99\n",
              "guess_passwd.          53\n",
              "portsweep.             40\n",
              "pod.                   20\n",
              "ftp_write.              8\n",
              "multihop.               5\n",
              "buffer_overflow.        3\n",
              "satan.                  2\n",
              "land.                   1\n",
              "perl.                   1\n",
              "imap.                   1\n",
              "phf.                    1\n",
              "loadmodule.             1\n",
              "Name: target, dtype: int64"
            ]
          },
          "metadata": {},
          "execution_count": 13
        }
      ],
      "source": [
        "df['target'].value_counts()"
      ]
    },
    {
      "cell_type": "code",
      "execution_count": null,
      "metadata": {
        "colab": {
          "base_uri": "https://localhost:8080/"
        },
        "id": "1iebrNt914UR",
        "outputId": "5c828ae0-0b95-4851-f5ec-ca1108f69e71"
      },
      "outputs": [
        {
          "output_type": "execute_result",
          "data": {
            "text/plain": [
              "duration                         int64\n",
              "protocol_type                   object\n",
              "service                         object\n",
              "flag                            object\n",
              "src_bytes                        int64\n",
              "dst_bytes                        int64\n",
              "land                             int64\n",
              "wrong_fragment                   int64\n",
              "urgent                           int64\n",
              "hot                              int64\n",
              "num_failed_logins                int64\n",
              "logged_in                        int64\n",
              "num_compromised                  int64\n",
              "root_shell                       int64\n",
              "su_attempted                     int64\n",
              "num_root                         int64\n",
              "num_file_creations               int64\n",
              "num_shells                       int64\n",
              "num_access_files                 int64\n",
              "num_outbound_cmds                int64\n",
              "is_host_login                    int64\n",
              "is_guest_login                   int64\n",
              "count                            int64\n",
              "srv_count                        int64\n",
              "serror_rate                    float64\n",
              "srv_serror_rate                float64\n",
              "rerror_rate                    float64\n",
              "srv_rerror_rate                float64\n",
              "same_srv_rate                  float64\n",
              "diff_srv_rate                  float64\n",
              "srv_diff_host_rate             float64\n",
              "dst_host_count                   int64\n",
              "dst_host_srv_count               int64\n",
              "dst_host_same_srv_rate         float64\n",
              "dst_host_diff_srv_rate         float64\n",
              "dst_host_same_src_port_rate    float64\n",
              "dst_host_srv_diff_host_rate    float64\n",
              "dst_host_serror_rate           float64\n",
              "dst_host_srv_serror_rate       float64\n",
              "dst_host_rerror_rate           float64\n",
              "dst_host_srv_rerror_rate       float64\n",
              "target                          object\n",
              "Attack Type                     object\n",
              "dtype: object"
            ]
          },
          "metadata": {},
          "execution_count": 14
        }
      ],
      "source": [
        "\n",
        "df.dtypes"
      ]
    },
    {
      "cell_type": "code",
      "execution_count": null,
      "metadata": {
        "colab": {
          "base_uri": "https://localhost:8080/"
        },
        "id": "Y9Fgq_Jm2J-m",
        "outputId": "5059629e-3889-4bed-d5ab-127b87dcfb7a"
      },
      "outputs": [
        {
          "output_type": "execute_result",
          "data": {
            "text/plain": [
              "(55767, 43)"
            ]
          },
          "metadata": {},
          "execution_count": 15
        }
      ],
      "source": [
        "\n",
        "df.shape"
      ]
    },
    {
      "cell_type": "code",
      "execution_count": null,
      "metadata": {
        "colab": {
          "base_uri": "https://localhost:8080/"
        },
        "id": "JAe7gcUi2Qxo",
        "outputId": "9b519df1-e128-4c45-800c-4b9e566d0136"
      },
      "outputs": [
        {
          "output_type": "execute_result",
          "data": {
            "text/plain": [
              "normal.             39298\n",
              "smurf.              11258\n",
              "neptune.             2185\n",
              "back.                2002\n",
              "ipsweep.              658\n",
              "nmap.                 130\n",
              "teardrop.              99\n",
              "guess_passwd.          53\n",
              "portsweep.             40\n",
              "pod.                   20\n",
              "ftp_write.              8\n",
              "multihop.               5\n",
              "buffer_overflow.        3\n",
              "satan.                  2\n",
              "land.                   1\n",
              "perl.                   1\n",
              "imap.                   1\n",
              "phf.                    1\n",
              "loadmodule.             1\n",
              "Name: target, dtype: int64"
            ]
          },
          "metadata": {},
          "execution_count": 16
        }
      ],
      "source": [
        "# Information about target column\n",
        "df['target'].value_counts()"
      ]
    },
    {
      "cell_type": "code",
      "execution_count": null,
      "metadata": {
        "colab": {
          "base_uri": "https://localhost:8080/"
        },
        "id": "0w-0kMrd2iGq",
        "outputId": "1c9bcc50-bd3e-4d5e-bfe1-2e04ac48988f"
      },
      "outputs": [
        {
          "output_type": "execute_result",
          "data": {
            "text/plain": [
              "normal     39298\n",
              "dos        15565\n",
              "probe        830\n",
              "r2l           68\n",
              "u2r            5\n",
              "unknown        1\n",
              "Name: Attack Type, dtype: int64"
            ]
          },
          "metadata": {},
          "execution_count": 17
        }
      ],
      "source": [
        "# Information about Attack Type column\n",
        "df['Attack Type'].value_counts()"
      ]
    },
    {
      "cell_type": "code",
      "execution_count": null,
      "metadata": {
        "id": "wJEmg-W-2pPT"
      },
      "outputs": [],
      "source": [
        "# num_cols will have numeric columns\n",
        "# cat_cols will have numeric columns\n",
        "num_cols = df._get_numeric_data().columns\n",
        "cat_cols = list(set(df.columns)-set(num_cols))"
      ]
    },
    {
      "cell_type": "code",
      "execution_count": null,
      "metadata": {
        "colab": {
          "base_uri": "https://localhost:8080/"
        },
        "id": "U2_BTaKV24kG",
        "outputId": "118e830f-dec9-470f-ed82-f5176ce6ba06"
      },
      "outputs": [
        {
          "output_type": "stream",
          "name": "stdout",
          "text": [
            "Index(['duration', 'src_bytes', 'dst_bytes', 'land', 'wrong_fragment',\n",
            "       'urgent', 'hot', 'num_failed_logins', 'logged_in', 'num_compromised',\n",
            "       'root_shell', 'su_attempted', 'num_root', 'num_file_creations',\n",
            "       'num_shells', 'num_access_files', 'num_outbound_cmds', 'is_host_login',\n",
            "       'is_guest_login', 'count', 'srv_count', 'serror_rate',\n",
            "       'srv_serror_rate', 'rerror_rate', 'srv_rerror_rate', 'same_srv_rate',\n",
            "       'diff_srv_rate', 'srv_diff_host_rate', 'dst_host_count',\n",
            "       'dst_host_srv_count', 'dst_host_same_srv_rate',\n",
            "       'dst_host_diff_srv_rate', 'dst_host_same_src_port_rate',\n",
            "       'dst_host_srv_diff_host_rate', 'dst_host_serror_rate',\n",
            "       'dst_host_srv_serror_rate', 'dst_host_rerror_rate',\n",
            "       'dst_host_srv_rerror_rate'],\n",
            "      dtype='object')\n"
          ]
        }
      ],
      "source": [
        "print(num_cols)"
      ]
    },
    {
      "cell_type": "code",
      "execution_count": null,
      "metadata": {
        "colab": {
          "base_uri": "https://localhost:8080/"
        },
        "id": "raoEXZpm29wW",
        "outputId": "d7a7f1ce-7459-46db-f823-40234d6ba3c7"
      },
      "outputs": [
        {
          "output_type": "stream",
          "name": "stdout",
          "text": [
            "['target', 'service', 'protocol_type', 'flag', 'Attack Type']\n"
          ]
        }
      ],
      "source": [
        "print(cat_cols)"
      ]
    },
    {
      "cell_type": "markdown",
      "metadata": {
        "id": "pohYzjm4ue8M"
      },
      "source": [
        "# **Visualizations**"
      ]
    },
    {
      "cell_type": "code",
      "execution_count": null,
      "metadata": {
        "colab": {
          "base_uri": "https://localhost:8080/",
          "height": 410
        },
        "id": "3rXdFsnD0L_M",
        "outputId": "e4e57811-ecc9-4e7c-ce4f-512b75f247e4"
      },
      "outputs": [
        {
          "output_type": "display_data",
          "data": {
            "text/plain": [
              "<Figure size 800x400 with 1 Axes>"
            ],
            "image/png": "[encoded data removed]"
          },
          "metadata": {}
        }
      ],
      "source": [
        "plt.figure(figsize=(8, 4))\n",
        "sns.countplot(x='protocol_type', data=df)\n",
        "plt.title('Distribution of Protocol Types')\n",
        "plt.show()\n"
      ]
    },
    {
      "cell_type": "code",
      "execution_count": null,
      "metadata": {
        "colab": {
          "base_uri": "https://localhost:8080/",
          "height": 605
        },
        "id": "v2P42fgG0d-q",
        "outputId": "c23a278d-bfed-4833-f72c-103f8a5ee252"
      },
      "outputs": [
        {
          "output_type": "display_data",
          "data": {
            "text/plain": [
              "<Figure size 1000x600 with 1 Axes>"
            ],
            "image/png": "[encoded data removed]"
          },
          "metadata": {}
        }
      ],
      "source": [
        "plt.figure(figsize=(10, 6))\n",
        "sns.countplot(x='flag', data=df)\n",
        "plt.xticks(rotation=90)\n",
        "plt.title('Distribution of Flag Types')\n",
        "plt.show()\n"
      ]
    },
    {
      "cell_type": "code",
      "execution_count": null,
      "metadata": {
        "colab": {
          "base_uri": "https://localhost:8080/",
          "height": 613
        },
        "id": "qCxXnbGY8kuT",
        "outputId": "09e456b3-d82f-495a-8d2d-3a3413dea610"
      },
      "outputs": [
        {
          "output_type": "display_data",
          "data": {
            "text/plain": [
              "<Figure size 800x600 with 1 Axes>"
            ],
            "image/png": "[encoded data removed]"
          },
          "metadata": {}
        }
      ],
      "source": [
        "plt.figure(figsize=(8, 6))\n",
        "sns.countplot(x='Attack Type', data=df)\n",
        "plt.xticks(rotation=90)\n",
        "plt.title('Distribution of Attack Types')\n",
        "plt.show()"
      ]
    },
    {
      "cell_type": "code",
      "execution_count": null,
      "metadata": {
        "colab": {
          "base_uri": "https://localhost:8080/",
          "height": 662
        },
        "id": "O4474-m5BKcK",
        "outputId": "98c79fbd-878c-4cf9-b991-6ab2200ac31e"
      },
      "outputs": [
        {
          "output_type": "display_data",
          "data": {
            "text/plain": [
              "<Figure size 800x600 with 1 Axes>"
            ],
            "image/png": "[encoded data removed]"
          },
          "metadata": {}
        }
      ],
      "source": [
        "plt.figure(figsize=(8, 6))\n",
        "sns.countplot(x='target', data=df)\n",
        "plt.xticks(rotation=90)\n",
        "plt.title('Distribution of Targets')\n",
        "plt.show()\n"
      ]
    },
    {
      "cell_type": "code",
      "execution_count": null,
      "metadata": {
        "colab": {
          "base_uri": "https://localhost:8080/"
        },
        "id": "XdigfjfAH2Ym",
        "outputId": "e02ecacf-bc08-4724-d591-83886ff8cc61"
      },
      "outputs": [
        {
          "output_type": "execute_result",
          "data": {
            "text/plain": [
              "duration                         int64\n",
              "protocol_type                   object\n",
              "service                         object\n",
              "flag                            object\n",
              "src_bytes                        int64\n",
              "dst_bytes                        int64\n",
              "land                             int64\n",
              "wrong_fragment                   int64\n",
              "urgent                           int64\n",
              "hot                              int64\n",
              "num_failed_logins                int64\n",
              "logged_in                        int64\n",
              "num_compromised                  int64\n",
              "root_shell                       int64\n",
              "su_attempted                     int64\n",
              "num_root                         int64\n",
              "num_file_creations               int64\n",
              "num_shells                       int64\n",
              "num_access_files                 int64\n",
              "num_outbound_cmds                int64\n",
              "is_host_login                    int64\n",
              "is_guest_login                   int64\n",
              "count                            int64\n",
              "srv_count                        int64\n",
              "serror_rate                    float64\n",
              "srv_serror_rate                float64\n",
              "rerror_rate                    float64\n",
              "srv_rerror_rate                float64\n",
              "same_srv_rate                  float64\n",
              "diff_srv_rate                  float64\n",
              "srv_diff_host_rate             float64\n",
              "dst_host_count                   int64\n",
              "dst_host_srv_count               int64\n",
              "dst_host_same_srv_rate         float64\n",
              "dst_host_diff_srv_rate         float64\n",
              "dst_host_same_src_port_rate    float64\n",
              "dst_host_srv_diff_host_rate    float64\n",
              "dst_host_serror_rate           float64\n",
              "dst_host_srv_serror_rate       float64\n",
              "dst_host_rerror_rate           float64\n",
              "dst_host_srv_rerror_rate       float64\n",
              "target                          object\n",
              "Attack Type                     object\n",
              "dtype: object"
            ]
          },
          "metadata": {},
          "execution_count": 25
        }
      ],
      "source": [
        "df.dtypes"
      ]
    },
    {
      "cell_type": "markdown",
      "metadata": {
        "id": "NfHbGBpWsBZv"
      },
      "source": [
        "# **Feature Mapping**"
      ]
    },
    {
      "cell_type": "code",
      "execution_count": null,
      "metadata": {
        "id": "dNjYro6yq3Zq"
      },
      "outputs": [],
      "source": [
        "df.drop(['num_root', 'srv_serror_rate', 'srv_rerror_rate', 'dst_host_srv_serror_rate',\n",
        "         'dst_host_serror_rate', 'dst_host_rerror_rate', 'dst_host_srv_rerror_rate',\n",
        "         'dst_host_same_srv_rate','service'], axis=1, inplace=True)"
      ]
    },
    {
      "cell_type": "code",
      "execution_count": null,
      "metadata": {
        "id": "BLlMYKMnrCS1"
      },
      "outputs": [],
      "source": [
        "# Map categorical features to numerical values\n",
        "protocol_map = {'icmp': 0, 'tcp': 1, 'udp': 2}\n",
        "df['protocol_type'] = df['protocol_type'].map(protocol_map)\n",
        "\n",
        "flag_map = {'SF': 0, 'S0': 1, 'REJ': 2, 'RSTR': 3, 'RSTO': 4, 'SH': 5, 'S1': 6, 'S2': 7, 'RSTOS0': 8, 'S3': 9, 'OTH': 10}\n",
        "df['flag'] = df['flag'].map(flag_map)"
      ]
    },
    {
      "cell_type": "code",
      "execution_count": null,
      "metadata": {
        "id": "QsywsOnqrCbi"
      },
      "outputs": [],
      "source": [
        "# Split data into features (X) and target (y)\n",
        "y = df[\"Attack Type\"]\n",
        "X = df.drop([\"target\", \"Attack Type\"], axis=1)\n",
        "\n",
        "# Feature Scaling (MinMaxScaler)\n",
        "from sklearn.preprocessing import MinMaxScaler\n",
        "scaler = MinMaxScaler()\n",
        "X_scaled = scaler.fit_transform(X)"
      ]
    },
    {
      "cell_type": "code",
      "execution_count": null,
      "metadata": {
        "colab": {
          "base_uri": "https://localhost:8080/"
        },
        "id": "aBwUuCKkrCi8",
        "outputId": "696e5614-656e-4fe5-f6ad-2da049136c5e"
      },
      "outputs": [
        {
          "name": "stderr",
          "output_type": "stream",
          "text": [
            "/usr/local/lib/python3.10/dist-packages/sklearn/metrics/_classification.py:1344: UndefinedMetricWarning: Precision and F-score are ill-defined and being set to 0.0 in labels with no predicted samples. Use `zero_division` parameter to control this behavior.\n",
            "  _warn_prf(average, modifier, msg_start, len(result))\n",
            "/usr/local/lib/python3.10/dist-packages/sklearn/metrics/_classification.py:1344: UndefinedMetricWarning: Precision and F-score are ill-defined and being set to 0.0 in labels with no predicted samples. Use `zero_division` parameter to control this behavior.\n",
            "  _warn_prf(average, modifier, msg_start, len(result))\n",
            "/usr/local/lib/python3.10/dist-packages/sklearn/metrics/_classification.py:1344: UndefinedMetricWarning: Precision and F-score are ill-defined and being set to 0.0 in labels with no predicted samples. Use `zero_division` parameter to control this behavior.\n",
            "  _warn_prf(average, modifier, msg_start, len(result))\n"
          ]
        }
      ],
      "source": [
        "from sklearn.model_selection import train_test_split\n",
        "X_train, X_test, y_train, y_test = train_test_split(X_scaled, y, test_size=0.33, random_state=42)\n",
        "\n",
        "# Model Building - Decision Tree Classifier\n",
        "from sklearn.tree import DecisionTreeClassifier\n",
        "clf = DecisionTreeClassifier(criterion=\"entropy\", max_depth=4)\n",
        "clf.fit(X_train, y_train)\n",
        "\n",
        "# Model Evaluation\n",
        "from sklearn.metrics import accuracy_score, classification_report, confusion_matrix\n",
        "y_pred = clf.predict(X_test)\n",
        "accuracy = accuracy_score(y_test, y_pred)\n",
        "conf_matrix = confusion_matrix(y_test, y_pred)\n",
        "class_report = classification_report(y_test, y_pred)"
      ]
    },
    {
      "cell_type": "code",
      "execution_count": null,
      "metadata": {
        "colab": {
          "base_uri": "https://localhost:8080/"
        },
        "id": "HzCjgwzGrCo4",
        "outputId": "0126a605-2258-4dc0-9b38-5f7bff023f88"
      },
      "outputs": [
        {
          "name": "stdout",
          "output_type": "stream",
          "text": [
            "0.9905230421954646\n"
          ]
        }
      ],
      "source": [
        "print(accuracy)"
      ]
    },
    {
      "cell_type": "code",
      "execution_count": null,
      "metadata": {
        "colab": {
          "base_uri": "https://localhost:8080/"
        },
        "id": "5aCv93hzrCxl",
        "outputId": "17507510-88e9-44f8-adb4-af560d6d0215"
      },
      "outputs": [
        {
          "data": {
            "text/plain": [
              "Index(['duration', 'protocol_type', 'flag', 'src_bytes', 'dst_bytes', 'land',\n",
              "       'wrong_fragment', 'urgent', 'hot', 'num_failed_logins', 'logged_in',\n",
              "       'num_compromised', 'root_shell', 'su_attempted', 'num_file_creations',\n",
              "       'num_shells', 'num_access_files', 'num_outbound_cmds', 'is_host_login',\n",
              "       'is_guest_login', 'count', 'srv_count', 'serror_rate', 'rerror_rate',\n",
              "       'same_srv_rate', 'diff_srv_rate', 'srv_diff_host_rate',\n",
              "       'dst_host_count', 'dst_host_srv_count', 'dst_host_diff_srv_rate',\n",
              "       'dst_host_same_src_port_rate', 'dst_host_srv_diff_host_rate', 'target',\n",
              "       'Attack Type'],\n",
              "      dtype='object')"
            ]
          },
          "execution_count": 67,
          "metadata": {},
          "output_type": "execute_result"
        }
      ],
      "source": [
        "df.columns"
      ]
    },
    {
      "cell_type": "code",
      "execution_count": null,
      "metadata": {
        "colab": {
          "base_uri": "https://localhost:8080/"
        },
        "id": "kaq-XzYSrC2g",
        "outputId": "89d9d071-d661-433d-e348-b335972a3174"
      },
      "outputs": [
        {
          "data": {
            "text/plain": [
              "['intrusion_detection_model.pkl']"
            ]
          },
          "execution_count": 68,
          "metadata": {},
          "output_type": "execute_result"
        }
      ],
      "source": [
        "import joblib\n",
        "joblib.dump(clf, 'intrusion_detection_model.pkl')"
      ]
    },
    {
      "cell_type": "code",
      "execution_count": null,
      "metadata": {
        "colab": {
          "base_uri": "https://localhost:8080/",
          "height": 234
        },
        "id": "LGiL_4DaxZ06",
        "outputId": "e7b36c24-6209-48a5-b470-ed73cb596a11"
      },
      "outputs": [
        {
          "name": "stderr",
          "output_type": "stream",
          "text": [
            "/usr/local/lib/python3.10/dist-packages/sklearn/linear_model/_logistic.py:458: ConvergenceWarning: lbfgs failed to converge (status=1):\n",
            "STOP: TOTAL NO. of ITERATIONS REACHED LIMIT.\n",
            "\n",
            "Increase the number of iterations (max_iter) or scale the data as shown in:\n",
            "    https://scikit-learn.org/stable/modules/preprocessing.html\n",
            "Please also refer to the documentation for alternative solver options:\n",
            "    https://scikit-learn.org/stable/modules/linear_model.html#logistic-regression\n",
            "  n_iter_i = _check_optimize_result(\n"
          ]
        },
        {
          "data": {
            "text/html": [
              "<style>#sk-container-id-1 {color: black;background-color: white;}#sk-container-id-1 pre{padding: 0;}#sk-container-id-1 div.sk-toggleable {background-color: white;}#sk-container-id-1 label.sk-toggleable__label {cursor: pointer;display: block;width: 100%;margin-bottom: 0;padding: 0.3em;box-sizing: border-box;text-align: center;}#sk-container-id-1 label.sk-toggleable__label-arrow:before {content: \"▸\";float: left;margin-right: 0.25em;color: #696969;}#sk-container-id-1 label.sk-toggleable__label-arrow:hover:before {color: black;}#sk-container-id-1 div.sk-estimator:hover label.sk-toggleable__label-arrow:before {color: black;}#sk-container-id-1 div.sk-toggleable__content {max-height: 0;max-width: 0;overflow: hidden;text-align: left;background-color: #f0f8ff;}#sk-container-id-1 div.sk-toggleable__content pre {margin: 0.2em;color: black;border-radius: 0.25em;background-color: #f0f8ff;}#sk-container-id-1 input.sk-toggleable__control:checked~div.sk-toggleable__content {max-height: 200px;max-width: 100%;overflow: auto;}#sk-container-id-1 input.sk-toggleable__control:checked~label.sk-toggleable__label-arrow:before {content: \"▾\";}#sk-container-id-1 div.sk-estimator input.sk-toggleable__control:checked~label.sk-toggleable__label {background-color: #d4ebff;}#sk-container-id-1 div.sk-label input.sk-toggleable__control:checked~label.sk-toggleable__label {background-color: #d4ebff;}#sk-container-id-1 input.sk-hidden--visually {border: 0;clip: rect(1px 1px 1px 1px);clip: rect(1px, 1px, 1px, 1px);height: 1px;margin: -1px;overflow: hidden;padding: 0;position: absolute;width: 1px;}#sk-container-id-1 div.sk-estimator {font-family: monospace;background-color: #f0f8ff;border: 1px dotted black;border-radius: 0.25em;box-sizing: border-box;margin-bottom: 0.5em;}#sk-container-id-1 div.sk-estimator:hover {background-color: #d4ebff;}#sk-container-id-1 div.sk-parallel-item::after {content: \"\";width: 100%;border-bottom: 1px solid gray;flex-grow: 1;}#sk-container-id-1 div.sk-label:hover label.sk-toggleable__label {background-color: #d4ebff;}#sk-container-id-1 div.sk-serial::before {content: \"\";position: absolute;border-left: 1px solid gray;box-sizing: border-box;top: 0;bottom: 0;left: 50%;z-index: 0;}#sk-container-id-1 div.sk-serial {display: flex;flex-direction: column;align-items: center;background-color: white;padding-right: 0.2em;padding-left: 0.2em;position: relative;}#sk-container-id-1 div.sk-item {position: relative;z-index: 1;}#sk-container-id-1 div.sk-parallel {display: flex;align-items: stretch;justify-content: center;background-color: white;position: relative;}#sk-container-id-1 div.sk-item::before, #sk-container-id-1 div.sk-parallel-item::before {content: \"\";position: absolute;border-left: 1px solid gray;box-sizing: border-box;top: 0;bottom: 0;left: 50%;z-index: -1;}#sk-container-id-1 div.sk-parallel-item {display: flex;flex-direction: column;z-index: 1;position: relative;background-color: white;}#sk-container-id-1 div.sk-parallel-item:first-child::after {align-self: flex-end;width: 50%;}#sk-container-id-1 div.sk-parallel-item:last-child::after {align-self: flex-start;width: 50%;}#sk-container-id-1 div.sk-parallel-item:only-child::after {width: 0;}#sk-container-id-1 div.sk-dashed-wrapped {border: 1px dashed gray;margin: 0 0.4em 0.5em 0.4em;box-sizing: border-box;padding-bottom: 0.4em;background-color: white;}#sk-container-id-1 div.sk-label label {font-family: monospace;font-weight: bold;display: inline-block;line-height: 1.2em;}#sk-container-id-1 div.sk-label-container {text-align: center;}#sk-container-id-1 div.sk-container {/* jupyter's `normalize.less` sets `[hidden] { display: none; }` but bootstrap.min.css set `[hidden] { display: none !important; }` so we also need the `!important` here to be able to override the default hidden behavior on the sphinx rendered scikit-learn.org. See: https://github.com/scikit-learn/scikit-learn/issues/21755 */display: inline-block !important;position: relative;}#sk-container-id-1 div.sk-text-repr-fallback {display: none;}</style><div id=\"sk-container-id-1\" class=\"sk-top-container\"><div class=\"sk-text-repr-fallback\"><pre>LogisticRegression()</pre><b>In a Jupyter environment, please rerun this cell to show the HTML representation or trust the notebook. <br />On GitHub, the HTML representation is unable to render, please try loading this page with nbviewer.org.</b></div><div class=\"sk-container\" hidden><div class=\"sk-item\"><div class=\"sk-estimator sk-toggleable\"><input class=\"sk-toggleable__control sk-hidden--visually\" id=\"sk-estimator-id-1\" type=\"checkbox\" checked><label for=\"sk-estimator-id-1\" class=\"sk-toggleable__label sk-toggleable__label-arrow\">LogisticRegression</label><div class=\"sk-toggleable__content\"><pre>LogisticRegression()</pre></div></div></div></div></div>"
            ],
            "text/plain": [
              "LogisticRegression()"
            ]
          },
          "execution_count": 69,
          "metadata": {},
          "output_type": "execute_result"
        }
      ],
      "source": [
        "from sklearn.linear_model import LogisticRegression\n",
        "\n",
        "# Create and train the logistic regression model\n",
        "log_reg = LogisticRegression()\n",
        "log_reg.fit(X_train, y_train)\n"
      ]
    },
    {
      "cell_type": "code",
      "execution_count": null,
      "metadata": {
        "colab": {
          "base_uri": "https://localhost:8080/"
        },
        "id": "cUlCpG20xZ-a",
        "outputId": "8d36dda2-0d15-428e-9369-0b2289063db2"
      },
      "outputs": [
        {
          "data": {
            "text/plain": [
              "['intrusion_detection_logistic_regression_model.pkl']"
            ]
          },
          "execution_count": 70,
          "metadata": {},
          "output_type": "execute_result"
        }
      ],
      "source": [
        "import joblib\n",
        "\n",
        "# Save the logistic regression model\n",
        "joblib.dump(log_reg, 'intrusion_detection_logistic_regression_model.pkl')\n"
      ]
    },
    {
      "cell_type": "code",
      "execution_count": null,
      "metadata": {
        "id": "0gDoP11nxaF9"
      },
      "outputs": [],
      "source": [
        "half"
      ]
    },
    {
      "cell_type": "code",
      "execution_count": null,
      "metadata": {
        "id": "hx25hITixaN7",
        "colab": {
          "base_uri": "https://localhost:8080/"
        },
        "outputId": "2f948c04-160d-412d-9ad8-6deb183459e5"
      },
      "outputs": [
        {
          "output_type": "stream",
          "name": "stdout",
          "text": [
            "       duration  protocol_type  flag  src_bytes  dst_bytes  land  \\\n",
            "52332         0              0     0          8          0     0   \n",
            "15695         0              1     0       1782        332     0   \n",
            "53972         0              1     1          0          0     0   \n",
            "23400         0              1     0        222       2483     0   \n",
            "34656         0              1     0        182       8673     0   \n",
            "...         ...            ...   ...        ...        ...   ...   \n",
            "51153         0              1     0      54540       8314     0   \n",
            "35552        28              1     0        329       1063     0   \n",
            "26280         0              1     0        205       5757     0   \n",
            "46284         0              0     0       1032          0     0   \n",
            "47514         0              0     0       1032          0     0   \n",
            "\n",
            "       wrong_fragment  urgent  hot  num_failed_logins  ...  same_srv_rate  \\\n",
            "52332               0       0    0                  0  ...           1.00   \n",
            "15695               0       0    0                  0  ...           1.00   \n",
            "53972               0       0    0                  0  ...           0.14   \n",
            "23400               0       0    0                  0  ...           1.00   \n",
            "34656               0       0    0                  0  ...           1.00   \n",
            "...               ...     ...  ...                ...  ...            ...   \n",
            "51153               0       0    2                  0  ...           1.00   \n",
            "35552               0       0    6                  0  ...           1.00   \n",
            "26280               0       0    0                  0  ...           1.00   \n",
            "46284               0       0    0                  0  ...           1.00   \n",
            "47514               0       0    0                  0  ...           1.00   \n",
            "\n",
            "       diff_srv_rate  srv_diff_host_rate  dst_host_count  dst_host_srv_count  \\\n",
            "52332           0.00                 1.0               1                 255   \n",
            "15695           0.00                 1.0              74                 240   \n",
            "53972           0.05                 0.0             255                  16   \n",
            "23400           0.00                 0.0             255                 255   \n",
            "34656           0.00                 0.0             148                 255   \n",
            "...              ...                 ...             ...                 ...   \n",
            "51153           0.00                 0.0             191                 191   \n",
            "35552           0.00                 0.0             155                  41   \n",
            "26280           0.00                 0.0              17                 255   \n",
            "46284           0.00                 0.0             255                 255   \n",
            "47514           0.00                 0.0             255                 255   \n",
            "\n",
            "       dst_host_diff_srv_rate  dst_host_same_src_port_rate  \\\n",
            "52332                    0.00                         1.00   \n",
            "15695                    0.03                         0.01   \n",
            "53972                    0.06                         0.00   \n",
            "23400                    0.00                         0.00   \n",
            "34656                    0.00                         0.01   \n",
            "...                       ...                          ...   \n",
            "51153                    0.00                         0.01   \n",
            "35552                    0.03                         0.01   \n",
            "26280                    0.00                         0.06   \n",
            "46284                    0.00                         1.00   \n",
            "47514                    0.00                         1.00   \n",
            "\n",
            "       dst_host_srv_diff_host_rate    target  Attack Type  \n",
            "52332                         0.50  ipsweep.        probe  \n",
            "15695                         0.01   normal.       normal  \n",
            "53972                         0.00  neptune.          dos  \n",
            "23400                         0.00   normal.       normal  \n",
            "34656                         0.02   normal.       normal  \n",
            "...                            ...       ...          ...  \n",
            "51153                         0.00     back.          dos  \n",
            "35552                         0.00   normal.       normal  \n",
            "26280                         0.04   normal.       normal  \n",
            "46284                         0.00    smurf.          dos  \n",
            "47514                         0.00    smurf.          dos  \n",
            "\n",
            "[16730 rows x 34 columns]\n"
          ]
        }
      ],
      "source": [
        "num_rows_to_drop = int(0.3 * len(df))\n",
        "\n",
        "# Drop approximately 50% of the rows randomly\n",
        "df_thirty = df.sample(frac=0.3, random_state=42)  # You can adjust the random_state if needed\n",
        "\n",
        "# Print the resulting DataFrame\n",
        "print(df_thirty)"
      ]
    },
    {
      "cell_type": "code",
      "source": [
        "r_drop= int(0.2 * len(df))\n",
        "\n",
        "# Drop approximately 50% of the rows randomly\n",
        "df_twenty = df.sample(frac=0.2, random_state=0)  # You can adjust the random_state if needed\n",
        "\n",
        "# Print the resulting DataFrame\n",
        "print(df_twenty)"
      ],
      "metadata": {
        "colab": {
          "base_uri": "https://localhost:8080/"
        },
        "id": "2xH1RDJkP4bi",
        "outputId": "5b9ba706-a1be-40e9-8c92-5b5b57b0aa8c"
      },
      "execution_count": null,
      "outputs": [
        {
          "output_type": "stream",
          "name": "stdout",
          "text": [
            "       duration  protocol_type  flag  src_bytes  dst_bytes  land  \\\n",
            "41628         0              1     0      40494          0     0   \n",
            "28575         0              1     0        315        535     0   \n",
            "50619         0              0     0       1032          0     0   \n",
            "38885         0              1     0        213      16058     0   \n",
            "38209         0              1     0        205        480     0   \n",
            "...         ...            ...   ...        ...        ...   ...   \n",
            "36810         0              1     0        224       1584     0   \n",
            "23879         0              1     0        237        834     0   \n",
            "10851         0              0     0       1032          0     0   \n",
            "39272         0              1     0        309       1905     0   \n",
            "20616         0              1     0        223       6534     0   \n",
            "\n",
            "       wrong_fragment  urgent  hot  num_failed_logins  ...  same_srv_rate  \\\n",
            "41628               0       0    0                  0  ...            1.0   \n",
            "28575               0       0    0                  0  ...            1.0   \n",
            "50619               0       0    0                  0  ...            1.0   \n",
            "38885               0       0    0                  0  ...            1.0   \n",
            "38209               0       0    0                  0  ...            1.0   \n",
            "...               ...     ...  ...                ...  ...            ...   \n",
            "36810               0       0    0                  0  ...            1.0   \n",
            "23879               0       0    0                  0  ...            1.0   \n",
            "10851               0       0    0                  0  ...            1.0   \n",
            "39272               0       0    0                  0  ...            1.0   \n",
            "20616               0       0    0                  0  ...            1.0   \n",
            "\n",
            "       diff_srv_rate  srv_diff_host_rate  dst_host_count  dst_host_srv_count  \\\n",
            "41628            0.0                0.17              35                  20   \n",
            "28575            0.0                0.07             255                 255   \n",
            "50619            0.0                0.00             255                 255   \n",
            "38885            0.0                0.00              38                 255   \n",
            "38209            0.0                0.22              62                 255   \n",
            "...              ...                 ...             ...                 ...   \n",
            "36810            0.0                0.09              22                 255   \n",
            "23879            0.0                0.00              85                 255   \n",
            "10851            0.0                0.00             255                 255   \n",
            "39272            0.0                0.18              12                 255   \n",
            "20616            0.0                0.00              37                 255   \n",
            "\n",
            "       dst_host_diff_srv_rate  dst_host_same_src_port_rate  \\\n",
            "41628                    0.09                         0.57   \n",
            "28575                    0.00                         0.01   \n",
            "50619                    0.00                         1.00   \n",
            "38885                    0.00                         0.03   \n",
            "38209                    0.00                         0.02   \n",
            "...                       ...                          ...   \n",
            "36810                    0.00                         0.05   \n",
            "23879                    0.00                         0.01   \n",
            "10851                    0.00                         1.00   \n",
            "39272                    0.00                         0.08   \n",
            "20616                    0.00                         0.03   \n",
            "\n",
            "       dst_host_srv_diff_host_rate   target  Attack Type  \n",
            "41628                         0.00  normal.       normal  \n",
            "28575                         0.00  normal.       normal  \n",
            "50619                         0.00   smurf.          dos  \n",
            "38885                         0.02  normal.       normal  \n",
            "38209                         0.02  normal.       normal  \n",
            "...                            ...      ...          ...  \n",
            "36810                         0.05  normal.       normal  \n",
            "23879                         0.02  normal.       normal  \n",
            "10851                         0.00   smurf.          dos  \n",
            "39272                         0.06  normal.       normal  \n",
            "20616                         0.05  normal.       normal  \n",
            "\n",
            "[11153 rows x 34 columns]\n"
          ]
        }
      ]
    },
    {
      "cell_type": "code",
      "source": [
        "df_five = df.sample(frac=0.05, random_state=42)  # You can adjust the random_state if needed\n",
        "\n",
        "# Print the resulting DataFrame\n",
        "print(df_five)"
      ],
      "metadata": {
        "colab": {
          "base_uri": "https://localhost:8080/"
        },
        "id": "3O3zGoecP4nB",
        "outputId": "33b23129-d1b8-4030-ac38-47f31c5ec81c"
      },
      "execution_count": null,
      "outputs": [
        {
          "output_type": "stream",
          "name": "stdout",
          "text": [
            "       duration  protocol_type  flag  src_bytes  dst_bytes  land  \\\n",
            "52332         0              0     0          8          0     0   \n",
            "15695         0              1     0       1782        332     0   \n",
            "53972         0              1     1          0          0     0   \n",
            "23400         0              1     0        222       2483     0   \n",
            "34656         0              1     0        182       8673     0   \n",
            "...         ...            ...   ...        ...        ...   ...   \n",
            "54084         0              1     1          0          0     0   \n",
            "6483          0              1     0        287       3491     0   \n",
            "2668          0              1     0        288      21778     0   \n",
            "52704         0              2     0         45         45     0   \n",
            "36139         0              1     0        198       1550     0   \n",
            "\n",
            "       wrong_fragment  urgent  hot  num_failed_logins  ...  same_srv_rate  \\\n",
            "52332               0       0    0                  0  ...           1.00   \n",
            "15695               0       0    0                  0  ...           1.00   \n",
            "53972               0       0    0                  0  ...           0.14   \n",
            "23400               0       0    0                  0  ...           1.00   \n",
            "34656               0       0    0                  0  ...           1.00   \n",
            "...               ...     ...  ...                ...  ...            ...   \n",
            "54084               0       0    0                  0  ...           0.13   \n",
            "6483                0       0    0                  0  ...           1.00   \n",
            "2668                0       0    0                  0  ...           1.00   \n",
            "52704               0       0    0                  0  ...           1.00   \n",
            "36139               0       0    0                  0  ...           1.00   \n",
            "\n",
            "       diff_srv_rate  srv_diff_host_rate  dst_host_count  dst_host_srv_count  \\\n",
            "52332           0.00                1.00               1                 255   \n",
            "15695           0.00                1.00              74                 240   \n",
            "53972           0.05                0.00             255                  16   \n",
            "23400           0.00                0.00             255                 255   \n",
            "34656           0.00                0.00             148                 255   \n",
            "...              ...                 ...             ...                 ...   \n",
            "54084           0.06                0.00             255                  13   \n",
            "6483            0.00                0.00              18                 255   \n",
            "2668            0.00                1.00              18                 255   \n",
            "52704           0.00                0.02             255                 254   \n",
            "36139           0.00                0.29              20                 255   \n",
            "\n",
            "       dst_host_diff_srv_rate  dst_host_same_src_port_rate  \\\n",
            "52332                    0.00                         1.00   \n",
            "15695                    0.03                         0.01   \n",
            "53972                    0.06                         0.00   \n",
            "23400                    0.00                         0.00   \n",
            "34656                    0.00                         0.01   \n",
            "...                       ...                          ...   \n",
            "54084                    0.07                         0.00   \n",
            "6483                     0.00                         0.06   \n",
            "2668                     0.00                         0.06   \n",
            "52704                    0.01                         0.01   \n",
            "36139                    0.00                         0.05   \n",
            "\n",
            "       dst_host_srv_diff_host_rate    target  Attack Type  \n",
            "52332                         0.50  ipsweep.        probe  \n",
            "15695                         0.01   normal.       normal  \n",
            "53972                         0.00  neptune.          dos  \n",
            "23400                         0.00   normal.       normal  \n",
            "34656                         0.02   normal.       normal  \n",
            "...                            ...       ...          ...  \n",
            "54084                         0.00  neptune.          dos  \n",
            "6483                          0.02   normal.       normal  \n",
            "2668                          0.03   normal.       normal  \n",
            "52704                         0.00   normal.       normal  \n",
            "36139                         0.02   normal.       normal  \n",
            "\n",
            "[2788 rows x 34 columns]\n"
          ]
        }
      ]
    },
    {
      "cell_type": "code",
      "source": [
        "df_five['Attack Type'].value_counts()"
      ],
      "metadata": {
        "colab": {
          "base_uri": "https://localhost:8080/"
        },
        "id": "E2Ks211vP4wg",
        "outputId": "b1c4d48a-7d0a-490d-c94e-41ec4edc7eff"
      },
      "execution_count": null,
      "outputs": [
        {
          "output_type": "execute_result",
          "data": {
            "text/plain": [
              "normal    1991\n",
              "dos        750\n",
              "probe       46\n",
              "r2l          1\n",
              "Name: Attack Type, dtype: int64"
            ]
          },
          "metadata": {},
          "execution_count": 32
        }
      ]
    },
    {
      "cell_type": "code",
      "source": [
        "df_five.to_csv('five_percent.csv')"
      ],
      "metadata": {
        "id": "UddVbucCP43i"
      },
      "execution_count": null,
      "outputs": []
    },
    {
      "cell_type": "code",
      "source": [
        "df_twenty.to_csv('twenty_percent.csv')"
      ],
      "metadata": {
        "id": "plFK_V8FRCo1"
      },
      "execution_count": null,
      "outputs": []
    },
    {
      "cell_type": "code",
      "execution_count": null,
      "metadata": {
        "colab": {
          "base_uri": "https://localhost:8080/"
        },
        "id": "JJ5k3y_nsEae",
        "outputId": "76587e4e-4ba3-4d83-a896-85200ef60ddb"
      },
      "outputs": [
        {
          "name": "stdout",
          "output_type": "stream",
          "text": [
            "        duration  protocol_type  flag  src_bytes  dst_bytes  land  \\\n",
            "317921         0              0     0       1032          0     0   \n",
            "171422         0              0     0       1032          0     0   \n",
            "312181         0              0     0       1032          0     0   \n",
            "87346          0              1     0        345       5419     0   \n",
            "57449          0              1     1          0          0     0   \n",
            "...          ...            ...   ...        ...        ...   ...   \n",
            "310767         0              0     0       1032          0     0   \n",
            "204892         0              0     0       1032          0     0   \n",
            "137579         0              1     0        306       5373     0   \n",
            "136773         0              1     0        232       2698     0   \n",
            "425461         0              0     0        520          0     0   \n",
            "\n",
            "        wrong_fragment  urgent  hot  num_failed_logins  ...  same_srv_rate  \\\n",
            "317921               0       0    0                  0  ...           1.00   \n",
            "171422               0       0    0                  0  ...           1.00   \n",
            "312181               0       0    0                  0  ...           1.00   \n",
            "87346                0       0    0                  0  ...           1.00   \n",
            "57449                0       0    0                  0  ...           0.01   \n",
            "...                ...     ...  ...                ...  ...            ...   \n",
            "310767               0       0    0                  0  ...           1.00   \n",
            "204892               0       0    0                  0  ...           1.00   \n",
            "137579               0       0    0                  0  ...           1.00   \n",
            "136773               0       0    0                  0  ...           1.00   \n",
            "425461               0       0    0                  0  ...           1.00   \n",
            "\n",
            "        diff_srv_rate  srv_diff_host_rate  dst_host_count  dst_host_srv_count  \\\n",
            "317921           0.00                0.00             255                 255   \n",
            "171422           0.00                0.00             255                 255   \n",
            "312181           0.00                0.00             255                 255   \n",
            "87346            0.00                0.00             101                 255   \n",
            "57449            0.06                0.00             255                   2   \n",
            "...               ...                 ...             ...                 ...   \n",
            "310767           0.00                0.00             255                 255   \n",
            "204892           0.00                0.00             255                 255   \n",
            "137579           0.00                0.19              36                 255   \n",
            "136773           0.00                0.00             255                 251   \n",
            "425461           0.00                0.00             255                 255   \n",
            "\n",
            "        dst_host_diff_srv_rate  dst_host_same_src_port_rate  \\\n",
            "317921                    0.00                         1.00   \n",
            "171422                    0.00                         1.00   \n",
            "312181                    0.00                         1.00   \n",
            "87346                     0.00                         0.01   \n",
            "57449                     0.07                         0.00   \n",
            "...                        ...                          ...   \n",
            "310767                    0.00                         1.00   \n",
            "204892                    0.00                         1.00   \n",
            "137579                    0.00                         0.03   \n",
            "136773                    0.01                         0.00   \n",
            "425461                    0.00                         1.00   \n",
            "\n",
            "        dst_host_srv_diff_host_rate    target  Attack Type  \n",
            "317921                         0.00    smurf.          dos  \n",
            "171422                         0.00    smurf.          dos  \n",
            "312181                         0.00    smurf.          dos  \n",
            "87346                          0.02   normal.       normal  \n",
            "57449                          0.00  neptune.          dos  \n",
            "...                             ...       ...          ...  \n",
            "310767                         0.00    smurf.          dos  \n",
            "204892                         0.00    smurf.          dos  \n",
            "137579                         0.06   normal.       normal  \n",
            "136773                         0.00   normal.       normal  \n",
            "425461                         0.00    smurf.          dos  \n",
            "\n",
            "[247010 rows x 34 columns]\n"
          ]
        }
      ],
      "source": [
        "import pandas as pd\n",
        "\n",
        "# Assuming df is your DataFrame\n",
        "# Calculate the number of rows to drop (50% of the total number of rows)\n",
        "num_rows_to_drop = int(0.5 * len(df))\n",
        "\n",
        "# Drop approximately 50% of the rows randomly\n",
        "df_dropped = df.sample(frac=0.5, random_state=42)  # You can adjust the random_state if needed\n",
        "\n",
        "# Print the resulting DataFrame\n",
        "print(df_dropped)\n"
      ]
    },
    {
      "cell_type": "code",
      "source": [
        "df_twenty['Attack Type'].value_counts()"
      ],
      "metadata": {
        "colab": {
          "base_uri": "https://localhost:8080/"
        },
        "id": "W2jB-kJWSubC",
        "outputId": "efe7f4dd-350f-4afd-a62c-d934cb42a7cd"
      },
      "execution_count": null,
      "outputs": [
        {
          "output_type": "execute_result",
          "data": {
            "text/plain": [
              "normal    7832\n",
              "dos       3148\n",
              "probe      162\n",
              "r2l         11\n",
              "Name: Attack Type, dtype: int64"
            ]
          },
          "metadata": {},
          "execution_count": 40
        }
      ]
    },
    {
      "cell_type": "code",
      "execution_count": null,
      "metadata": {
        "colab": {
          "base_uri": "https://localhost:8080/"
        },
        "id": "jsoGeWEXrC6T",
        "outputId": "323e8fd2-20b6-4e7e-e843-ad50297ce1f7"
      },
      "outputs": [
        {
          "data": {
            "text/plain": [
              "Index(['duration', 'protocol_type', 'flag', 'src_bytes', 'dst_bytes', 'land',\n",
              "       'wrong_fragment', 'urgent', 'hot', 'num_failed_logins', 'logged_in',\n",
              "       'num_compromised', 'root_shell', 'su_attempted', 'num_file_creations',\n",
              "       'num_shells', 'num_access_files', 'num_outbound_cmds', 'is_host_login',\n",
              "       'is_guest_login', 'count', 'srv_count', 'serror_rate', 'rerror_rate',\n",
              "       'same_srv_rate', 'diff_srv_rate', 'srv_diff_host_rate',\n",
              "       'dst_host_count', 'dst_host_srv_count', 'dst_host_diff_srv_rate',\n",
              "       'dst_host_same_src_port_rate', 'dst_host_srv_diff_host_rate', 'target',\n",
              "       'Attack Type'],\n",
              "      dtype='object')"
            ]
          },
          "execution_count": 72,
          "metadata": {},
          "output_type": "execute_result"
        }
      ],
      "source": [
        "df_dropped.columns"
      ]
    },
    {
      "cell_type": "code",
      "execution_count": null,
      "metadata": {
        "colab": {
          "base_uri": "https://localhost:8080/"
        },
        "id": "G80rSpXdvcg-",
        "outputId": "de0b5697-4414-4d45-dd9f-ceaa217f834b"
      },
      "outputs": [
        {
          "data": {
            "text/plain": [
              "dos       195776\n",
              "normal     48649\n",
              "probe       2007\n",
              "r2l          554\n",
              "u2r           24\n",
              "Name: Attack Type, dtype: int64"
            ]
          },
          "execution_count": 73,
          "metadata": {},
          "output_type": "execute_result"
        }
      ],
      "source": [
        "df_dropped['Attack Type'].value_counts()"
      ]
    },
    {
      "cell_type": "code",
      "execution_count": null,
      "metadata": {
        "colab": {
          "base_uri": "https://localhost:8080/"
        },
        "id": "RPbrfb1svcyb",
        "outputId": "50a22109-5a81-43c1-afe0-b5aafa2b5e74"
      },
      "outputs": [
        {
          "data": {
            "text/plain": [
              "smurf.              140543\n",
              "neptune.             53521\n",
              "normal.              48649\n",
              "back.                 1097\n",
              "satan.                 762\n",
              "ipsweep.               618\n",
              "portsweep.             517\n",
              "warezclient.           511\n",
              "teardrop.              487\n",
              "pod.                   118\n",
              "nmap.                  110\n",
              "guess_passwd.           24\n",
              "buffer_overflow.        15\n",
              "warezmaster.            10\n",
              "land.                   10\n",
              "rootkit.                 4\n",
              "imap.                    4\n",
              "loadmodule.              3\n",
              "multihop.                2\n",
              "ftp_write.               2\n",
              "perl.                    2\n",
              "phf.                     1\n",
              "Name: target, dtype: int64"
            ]
          },
          "execution_count": 74,
          "metadata": {},
          "output_type": "execute_result"
        }
      ],
      "source": [
        "df_dropped['target'].value_counts()"
      ]
    },
    {
      "cell_type": "code",
      "execution_count": null,
      "metadata": {
        "colab": {
          "base_uri": "https://localhost:8080/"
        },
        "id": "lt57ayVN3aDD",
        "outputId": "5a2da27e-7a88-4ee6-c7bf-cbcc3f0ac48e"
      },
      "outputs": [
        {
          "data": {
            "text/plain": [
              "duration                       0\n",
              "protocol_type                  0\n",
              "flag                           0\n",
              "src_bytes                      0\n",
              "dst_bytes                      0\n",
              "land                           0\n",
              "wrong_fragment                 0\n",
              "urgent                         0\n",
              "hot                            0\n",
              "num_failed_logins              0\n",
              "logged_in                      0\n",
              "num_compromised                0\n",
              "root_shell                     0\n",
              "su_attempted                   0\n",
              "num_file_creations             0\n",
              "num_shells                     0\n",
              "num_access_files               0\n",
              "num_outbound_cmds              0\n",
              "is_host_login                  0\n",
              "is_guest_login                 0\n",
              "count                          0\n",
              "srv_count                      0\n",
              "serror_rate                    0\n",
              "rerror_rate                    0\n",
              "same_srv_rate                  0\n",
              "diff_srv_rate                  0\n",
              "srv_diff_host_rate             0\n",
              "dst_host_count                 0\n",
              "dst_host_srv_count             0\n",
              "dst_host_diff_srv_rate         0\n",
              "dst_host_same_src_port_rate    0\n",
              "dst_host_srv_diff_host_rate    0\n",
              "target                         0\n",
              "Attack Type                    0\n",
              "dtype: int64"
            ]
          },
          "execution_count": 75,
          "metadata": {},
          "output_type": "execute_result"
        }
      ],
      "source": [
        "df_dropped.isnull().sum()"
      ]
    },
    {
      "cell_type": "code",
      "execution_count": null,
      "metadata": {
        "id": "pNxCU9_93aW5"
      },
      "outputs": [],
      "source": []
    },
    {
      "cell_type": "code",
      "execution_count": null,
      "metadata": {
        "id": "VFy2XnF_iVys"
      },
      "outputs": [],
      "source": [
        "#df = df.dropna('columns')# drop columns with NaN\n",
        "df = df[[col for col in df if df[col].nunique() > 1]]"
      ]
    },
    {
      "cell_type": "code",
      "execution_count": null,
      "metadata": {
        "id": "JyPdXtwgrAiL"
      },
      "outputs": [],
      "source": [
        "pmap = {'icmp':0, 'tcp':1, 'udp':2}\n",
        "df['protocol_type'] = df['protocol_type'].map(pmap)"
      ]
    },
    {
      "cell_type": "code",
      "execution_count": null,
      "metadata": {
        "id": "0KP0Nuq_r3zg"
      },
      "outputs": [],
      "source": [
        "# flag feature mapping\n",
        "fmap = {'SF':0, 'S0':1, 'REJ':2, 'RSTR':3, 'RSTO':4, 'SH':5, 'S1':6, 'S2':7, 'RSTOS0':8, 'S3':9, 'OTH':10}\n",
        "df['flag'] = df['flag'].map(fmap)"
      ]
    },
    {
      "cell_type": "code",
      "execution_count": null,
      "metadata": {
        "id": "FRCmkxrjr8LV"
      },
      "outputs": [],
      "source": [
        "df.drop('service', axis = 1, inplace = True)"
      ]
    },
    {
      "cell_type": "code",
      "execution_count": null,
      "metadata": {
        "colab": {
          "base_uri": "https://localhost:8080/"
        },
        "id": "nHX0LWN-i8GI",
        "outputId": "5e4662af-50fb-4d96-dde0-311a10dde62a"
      },
      "outputs": [
        {
          "data": {
            "text/plain": [
              "(6997, 35)"
            ]
          },
          "execution_count": 29,
          "metadata": {},
          "output_type": "execute_result"
        }
      ],
      "source": [
        "df.shape"
      ]
    },
    {
      "cell_type": "code",
      "execution_count": null,
      "metadata": {
        "id": "86RKA4UmrFlK"
      },
      "outputs": [],
      "source": [
        "df.drop('num_root', axis = 1, inplace = True)\n",
        "\n",
        "df.drop('srv_serror_rate', axis = 1, inplace = True)\n",
        "\n",
        "df.drop('srv_rerror_rate', axis = 1, inplace = True)\n",
        "\n",
        "df.drop('dst_host_srv_serror_rate', axis = 1, inplace = True)\n",
        "\n",
        "df.drop('dst_host_serror_rate', axis = 1, inplace = True)\n",
        "\n",
        "df.drop('dst_host_rerror_rate', axis = 1, inplace = True)\n",
        "\n",
        "df.drop('dst_host_srv_rerror_rate', axis = 1, inplace = True)\n",
        "\n",
        "df.drop('dst_host_same_srv_rate', axis = 1, inplace = True)"
      ]
    },
    {
      "cell_type": "code",
      "execution_count": null,
      "metadata": {
        "colab": {
          "base_uri": "https://localhost:8080/",
          "height": 273
        },
        "id": "iExZbSbQrOl2",
        "outputId": "c89a8181-82a7-4def-b475-baa41f52969f"
      },
      "outputs": [
        {
          "data": {
            "text/html": [
              "\n",
              "  <div id=\"df-2b53fc1e-058b-453e-9dce-728acef0c56e\" class=\"colab-df-container\">\n",
              "    <div>\n",
              "<style scoped>\n",
              "    .dataframe tbody tr th:only-of-type {\n",
              "        vertical-align: middle;\n",
              "    }\n",
              "\n",
              "    .dataframe tbody tr th {\n",
              "        vertical-align: top;\n",
              "    }\n",
              "\n",
              "    .dataframe thead th {\n",
              "        text-align: right;\n",
              "    }\n",
              "</style>\n",
              "<table border=\"1\" class=\"dataframe\">\n",
              "  <thead>\n",
              "    <tr style=\"text-align: right;\">\n",
              "      <th></th>\n",
              "      <th>duration</th>\n",
              "      <th>protocol_type</th>\n",
              "      <th>flag</th>\n",
              "      <th>src_bytes</th>\n",
              "      <th>dst_bytes</th>\n",
              "      <th>hot</th>\n",
              "      <th>logged_in</th>\n",
              "      <th>num_compromised</th>\n",
              "      <th>root_shell</th>\n",
              "      <th>num_file_creations</th>\n",
              "      <th>...</th>\n",
              "      <th>same_srv_rate</th>\n",
              "      <th>diff_srv_rate</th>\n",
              "      <th>srv_diff_host_rate</th>\n",
              "      <th>dst_host_count</th>\n",
              "      <th>dst_host_srv_count</th>\n",
              "      <th>dst_host_diff_srv_rate</th>\n",
              "      <th>dst_host_same_src_port_rate</th>\n",
              "      <th>dst_host_srv_diff_host_rate</th>\n",
              "      <th>target</th>\n",
              "      <th>Attack Type</th>\n",
              "    </tr>\n",
              "  </thead>\n",
              "  <tbody>\n",
              "    <tr>\n",
              "      <th>0</th>\n",
              "      <td>0</td>\n",
              "      <td>1</td>\n",
              "      <td>0</td>\n",
              "      <td>181</td>\n",
              "      <td>5450</td>\n",
              "      <td>0</td>\n",
              "      <td>1</td>\n",
              "      <td>0</td>\n",
              "      <td>0</td>\n",
              "      <td>0</td>\n",
              "      <td>...</td>\n",
              "      <td>1.0</td>\n",
              "      <td>0.0</td>\n",
              "      <td>0.0</td>\n",
              "      <td>9</td>\n",
              "      <td>9</td>\n",
              "      <td>0.0</td>\n",
              "      <td>0.11</td>\n",
              "      <td>0.0</td>\n",
              "      <td>normal.</td>\n",
              "      <td>normal</td>\n",
              "    </tr>\n",
              "    <tr>\n",
              "      <th>1</th>\n",
              "      <td>0</td>\n",
              "      <td>1</td>\n",
              "      <td>0</td>\n",
              "      <td>239</td>\n",
              "      <td>486</td>\n",
              "      <td>0</td>\n",
              "      <td>1</td>\n",
              "      <td>0</td>\n",
              "      <td>0</td>\n",
              "      <td>0</td>\n",
              "      <td>...</td>\n",
              "      <td>1.0</td>\n",
              "      <td>0.0</td>\n",
              "      <td>0.0</td>\n",
              "      <td>19</td>\n",
              "      <td>19</td>\n",
              "      <td>0.0</td>\n",
              "      <td>0.05</td>\n",
              "      <td>0.0</td>\n",
              "      <td>normal.</td>\n",
              "      <td>normal</td>\n",
              "    </tr>\n",
              "    <tr>\n",
              "      <th>2</th>\n",
              "      <td>0</td>\n",
              "      <td>1</td>\n",
              "      <td>0</td>\n",
              "      <td>235</td>\n",
              "      <td>1337</td>\n",
              "      <td>0</td>\n",
              "      <td>1</td>\n",
              "      <td>0</td>\n",
              "      <td>0</td>\n",
              "      <td>0</td>\n",
              "      <td>...</td>\n",
              "      <td>1.0</td>\n",
              "      <td>0.0</td>\n",
              "      <td>0.0</td>\n",
              "      <td>29</td>\n",
              "      <td>29</td>\n",
              "      <td>0.0</td>\n",
              "      <td>0.03</td>\n",
              "      <td>0.0</td>\n",
              "      <td>normal.</td>\n",
              "      <td>normal</td>\n",
              "    </tr>\n",
              "    <tr>\n",
              "      <th>3</th>\n",
              "      <td>0</td>\n",
              "      <td>1</td>\n",
              "      <td>0</td>\n",
              "      <td>219</td>\n",
              "      <td>1337</td>\n",
              "      <td>0</td>\n",
              "      <td>1</td>\n",
              "      <td>0</td>\n",
              "      <td>0</td>\n",
              "      <td>0</td>\n",
              "      <td>...</td>\n",
              "      <td>1.0</td>\n",
              "      <td>0.0</td>\n",
              "      <td>0.0</td>\n",
              "      <td>39</td>\n",
              "      <td>39</td>\n",
              "      <td>0.0</td>\n",
              "      <td>0.03</td>\n",
              "      <td>0.0</td>\n",
              "      <td>normal.</td>\n",
              "      <td>normal</td>\n",
              "    </tr>\n",
              "    <tr>\n",
              "      <th>4</th>\n",
              "      <td>0</td>\n",
              "      <td>1</td>\n",
              "      <td>0</td>\n",
              "      <td>217</td>\n",
              "      <td>2032</td>\n",
              "      <td>0</td>\n",
              "      <td>1</td>\n",
              "      <td>0</td>\n",
              "      <td>0</td>\n",
              "      <td>0</td>\n",
              "      <td>...</td>\n",
              "      <td>1.0</td>\n",
              "      <td>0.0</td>\n",
              "      <td>0.0</td>\n",
              "      <td>49</td>\n",
              "      <td>49</td>\n",
              "      <td>0.0</td>\n",
              "      <td>0.02</td>\n",
              "      <td>0.0</td>\n",
              "      <td>normal.</td>\n",
              "      <td>normal</td>\n",
              "    </tr>\n",
              "  </tbody>\n",
              "</table>\n",
              "<p>5 rows × 27 columns</p>\n",
              "</div>\n",
              "    <div class=\"colab-df-buttons\">\n",
              "\n",
              "  <div class=\"colab-df-container\">\n",
              "    <button class=\"colab-df-convert\" onclick=\"convertToInteractive('df-2b53fc1e-058b-453e-9dce-728acef0c56e')\"\n",
              "            title=\"Convert this dataframe to an interactive table.\"\n",
              "            style=\"display:none;\">\n",
              "\n",
              "  <svg xmlns=\"http://www.w3.org/2000/svg\" height=\"24px\" viewBox=\"0 -960 960 960\">\n",
              "    <path d=\"M120-120v-720h720v720H120Zm60-500h600v-160H180v160Zm220 220h160v-160H400v160Zm0 220h160v-160H400v160ZM180-400h160v-160H180v160Zm440 0h160v-160H620v160ZM180-180h160v-160H180v160Zm440 0h160v-160H620v160Z\"/>\n",
              "  </svg>\n",
              "    </button>\n",
              "\n",
              "  <style>\n",
              "    .colab-df-container {\n",
              "      display:flex;\n",
              "      gap: 12px;\n",
              "    }\n",
              "\n",
              "    .colab-df-convert {\n",
              "      background-color: #E8F0FE;\n",
              "      border: none;\n",
              "      border-radius: 50%;\n",
              "      cursor: pointer;\n",
              "      display: none;\n",
              "      fill: #1967D2;\n",
              "      height: 32px;\n",
              "      padding: 0 0 0 0;\n",
              "      width: 32px;\n",
              "    }\n",
              "\n",
              "    .colab-df-convert:hover {\n",
              "      background-color: #E2EBFA;\n",
              "      box-shadow: 0px 1px 2px rgba(60, 64, 67, 0.3), 0px 1px 3px 1px rgba(60, 64, 67, 0.15);\n",
              "      fill: #174EA6;\n",
              "    }\n",
              "\n",
              "    .colab-df-buttons div {\n",
              "      margin-bottom: 4px;\n",
              "    }\n",
              "\n",
              "    [theme=dark] .colab-df-convert {\n",
              "      background-color: #3B4455;\n",
              "      fill: #D2E3FC;\n",
              "    }\n",
              "\n",
              "    [theme=dark] .colab-df-convert:hover {\n",
              "      background-color: #434B5C;\n",
              "      box-shadow: 0px 1px 3px 1px rgba(0, 0, 0, 0.15);\n",
              "      filter: drop-shadow(0px 1px 2px rgba(0, 0, 0, 0.3));\n",
              "      fill: #FFFFFF;\n",
              "    }\n",
              "  </style>\n",
              "\n",
              "    <script>\n",
              "      const buttonEl =\n",
              "        document.querySelector('#df-2b53fc1e-058b-453e-9dce-728acef0c56e button.colab-df-convert');\n",
              "      buttonEl.style.display =\n",
              "        google.colab.kernel.accessAllowed ? 'block' : 'none';\n",
              "\n",
              "      async function convertToInteractive(key) {\n",
              "        const element = document.querySelector('#df-2b53fc1e-058b-453e-9dce-728acef0c56e');\n",
              "        const dataTable =\n",
              "          await google.colab.kernel.invokeFunction('convertToInteractive',\n",
              "                                                    [key], {});\n",
              "        if (!dataTable) return;\n",
              "\n",
              "        const docLinkHtml = 'Like what you see? Visit the ' +\n",
              "          '<a target=\"_blank\" href=https://colab.research.google.com/notebooks/data_table.ipynb>data table notebook</a>'\n",
              "          + ' to learn more about interactive tables.';\n",
              "        element.innerHTML = '';\n",
              "        dataTable['output_type'] = 'display_data';\n",
              "        await google.colab.output.renderOutput(dataTable, element);\n",
              "        const docLink = document.createElement('div');\n",
              "        docLink.innerHTML = docLinkHtml;\n",
              "        element.appendChild(docLink);\n",
              "      }\n",
              "    </script>\n",
              "  </div>\n",
              "\n",
              "\n",
              "<div id=\"df-83933796-46ab-45a1-adbb-263963e62db4\">\n",
              "  <button class=\"colab-df-quickchart\" onclick=\"quickchart('df-83933796-46ab-45a1-adbb-263963e62db4')\"\n",
              "            title=\"Suggest charts.\"\n",
              "            style=\"display:none;\">\n",
              "\n",
              "<svg xmlns=\"http://www.w3.org/2000/svg\" height=\"24px\"viewBox=\"0 0 24 24\"\n",
              "     width=\"24px\">\n",
              "    <g>\n",
              "        <path d=\"M19 3H5c-1.1 0-2 .9-2 2v14c0 1.1.9 2 2 2h14c1.1 0 2-.9 2-2V5c0-1.1-.9-2-2-2zM9 17H7v-7h2v7zm4 0h-2V7h2v10zm4 0h-2v-4h2v4z\"/>\n",
              "    </g>\n",
              "</svg>\n",
              "  </button>\n",
              "\n",
              "<style>\n",
              "  .colab-df-quickchart {\n",
              "      --bg-color: #E8F0FE;\n",
              "      --fill-color: #1967D2;\n",
              "      --hover-bg-color: #E2EBFA;\n",
              "      --hover-fill-color: #174EA6;\n",
              "      --disabled-fill-color: #AAA;\n",
              "      --disabled-bg-color: #DDD;\n",
              "  }\n",
              "\n",
              "  [theme=dark] .colab-df-quickchart {\n",
              "      --bg-color: #3B4455;\n",
              "      --fill-color: #D2E3FC;\n",
              "      --hover-bg-color: #434B5C;\n",
              "      --hover-fill-color: #FFFFFF;\n",
              "      --disabled-bg-color: #3B4455;\n",
              "      --disabled-fill-color: #666;\n",
              "  }\n",
              "\n",
              "  .colab-df-quickchart {\n",
              "    background-color: var(--bg-color);\n",
              "    border: none;\n",
              "    border-radius: 50%;\n",
              "    cursor: pointer;\n",
              "    display: none;\n",
              "    fill: var(--fill-color);\n",
              "    height: 32px;\n",
              "    padding: 0;\n",
              "    width: 32px;\n",
              "  }\n",
              "\n",
              "  .colab-df-quickchart:hover {\n",
              "    background-color: var(--hover-bg-color);\n",
              "    box-shadow: 0 1px 2px rgba(60, 64, 67, 0.3), 0 1px 3px 1px rgba(60, 64, 67, 0.15);\n",
              "    fill: var(--button-hover-fill-color);\n",
              "  }\n",
              "\n",
              "  .colab-df-quickchart-complete:disabled,\n",
              "  .colab-df-quickchart-complete:disabled:hover {\n",
              "    background-color: var(--disabled-bg-color);\n",
              "    fill: var(--disabled-fill-color);\n",
              "    box-shadow: none;\n",
              "  }\n",
              "\n",
              "  .colab-df-spinner {\n",
              "    border: 2px solid var(--fill-color);\n",
              "    border-color: transparent;\n",
              "    border-bottom-color: var(--fill-color);\n",
              "    animation:\n",
              "      spin 1s steps(1) infinite;\n",
              "  }\n",
              "\n",
              "  @keyframes spin {\n",
              "    0% {\n",
              "      border-color: transparent;\n",
              "      border-bottom-color: var(--fill-color);\n",
              "      border-left-color: var(--fill-color);\n",
              "    }\n",
              "    20% {\n",
              "      border-color: transparent;\n",
              "      border-left-color: var(--fill-color);\n",
              "      border-top-color: var(--fill-color);\n",
              "    }\n",
              "    30% {\n",
              "      border-color: transparent;\n",
              "      border-left-color: var(--fill-color);\n",
              "      border-top-color: var(--fill-color);\n",
              "      border-right-color: var(--fill-color);\n",
              "    }\n",
              "    40% {\n",
              "      border-color: transparent;\n",
              "      border-right-color: var(--fill-color);\n",
              "      border-top-color: var(--fill-color);\n",
              "    }\n",
              "    60% {\n",
              "      border-color: transparent;\n",
              "      border-right-color: var(--fill-color);\n",
              "    }\n",
              "    80% {\n",
              "      border-color: transparent;\n",
              "      border-right-color: var(--fill-color);\n",
              "      border-bottom-color: var(--fill-color);\n",
              "    }\n",
              "    90% {\n",
              "      border-color: transparent;\n",
              "      border-bottom-color: var(--fill-color);\n",
              "    }\n",
              "  }\n",
              "</style>\n",
              "\n",
              "  <script>\n",
              "    async function quickchart(key) {\n",
              "      const quickchartButtonEl =\n",
              "        document.querySelector('#' + key + ' button');\n",
              "      quickchartButtonEl.disabled = true;  // To prevent multiple clicks.\n",
              "      quickchartButtonEl.classList.add('colab-df-spinner');\n",
              "      try {\n",
              "        const charts = await google.colab.kernel.invokeFunction(\n",
              "            'suggestCharts', [key], {});\n",
              "      } catch (error) {\n",
              "        console.error('Error during call to suggestCharts:', error);\n",
              "      }\n",
              "      quickchartButtonEl.classList.remove('colab-df-spinner');\n",
              "      quickchartButtonEl.classList.add('colab-df-quickchart-complete');\n",
              "    }\n",
              "    (() => {\n",
              "      let quickchartButtonEl =\n",
              "        document.querySelector('#df-83933796-46ab-45a1-adbb-263963e62db4 button');\n",
              "      quickchartButtonEl.style.display =\n",
              "        google.colab.kernel.accessAllowed ? 'block' : 'none';\n",
              "    })();\n",
              "  </script>\n",
              "</div>\n",
              "    </div>\n",
              "  </div>\n"
            ],
            "text/plain": [
              "   duration  protocol_type  flag  src_bytes  dst_bytes  hot  logged_in  \\\n",
              "0         0              1     0        181       5450    0          1   \n",
              "1         0              1     0        239        486    0          1   \n",
              "2         0              1     0        235       1337    0          1   \n",
              "3         0              1     0        219       1337    0          1   \n",
              "4         0              1     0        217       2032    0          1   \n",
              "\n",
              "   num_compromised  root_shell  num_file_creations  ...  same_srv_rate  \\\n",
              "0                0           0                   0  ...            1.0   \n",
              "1                0           0                   0  ...            1.0   \n",
              "2                0           0                   0  ...            1.0   \n",
              "3                0           0                   0  ...            1.0   \n",
              "4                0           0                   0  ...            1.0   \n",
              "\n",
              "   diff_srv_rate  srv_diff_host_rate  dst_host_count  dst_host_srv_count  \\\n",
              "0            0.0                 0.0               9                   9   \n",
              "1            0.0                 0.0              19                  19   \n",
              "2            0.0                 0.0              29                  29   \n",
              "3            0.0                 0.0              39                  39   \n",
              "4            0.0                 0.0              49                  49   \n",
              "\n",
              "   dst_host_diff_srv_rate  dst_host_same_src_port_rate  \\\n",
              "0                     0.0                         0.11   \n",
              "1                     0.0                         0.05   \n",
              "2                     0.0                         0.03   \n",
              "3                     0.0                         0.03   \n",
              "4                     0.0                         0.02   \n",
              "\n",
              "   dst_host_srv_diff_host_rate   target  Attack Type  \n",
              "0                          0.0  normal.       normal  \n",
              "1                          0.0  normal.       normal  \n",
              "2                          0.0  normal.       normal  \n",
              "3                          0.0  normal.       normal  \n",
              "4                          0.0  normal.       normal  \n",
              "\n",
              "[5 rows x 27 columns]"
            ]
          },
          "execution_count": 31,
          "metadata": {},
          "output_type": "execute_result"
        }
      ],
      "source": [
        "df.head()"
      ]
    },
    {
      "cell_type": "code",
      "execution_count": null,
      "metadata": {
        "colab": {
          "base_uri": "https://localhost:8080/"
        },
        "id": "zHhnTGHnCqKQ",
        "outputId": "f4efbd93-3738-4750-b044-b8f0c3aaa460"
      },
      "outputs": [
        {
          "data": {
            "text/plain": [
              "normal     6992\n",
              "u2r           4\n",
              "unknown       1\n",
              "Name: Attack Type, dtype: int64"
            ]
          },
          "execution_count": 32,
          "metadata": {},
          "output_type": "execute_result"
        }
      ],
      "source": [
        "df['Attack Type'].value_counts()"
      ]
    },
    {
      "cell_type": "code",
      "execution_count": null,
      "metadata": {
        "colab": {
          "base_uri": "https://localhost:8080/"
        },
        "id": "Cyio0xo_rgur",
        "outputId": "0f570953-af87-4f51-c4ab-aa4dc99ad88e"
      },
      "outputs": [
        {
          "data": {
            "text/plain": [
              "duration                         int64\n",
              "protocol_type                    int64\n",
              "flag                             int64\n",
              "src_bytes                        int64\n",
              "dst_bytes                        int64\n",
              "hot                              int64\n",
              "logged_in                        int64\n",
              "num_compromised                  int64\n",
              "root_shell                       int64\n",
              "num_file_creations               int64\n",
              "num_shells                       int64\n",
              "num_access_files                 int64\n",
              "is_guest_login                   int64\n",
              "count                            int64\n",
              "srv_count                        int64\n",
              "serror_rate                    float64\n",
              "rerror_rate                    float64\n",
              "same_srv_rate                  float64\n",
              "diff_srv_rate                  float64\n",
              "srv_diff_host_rate             float64\n",
              "dst_host_count                   int64\n",
              "dst_host_srv_count               int64\n",
              "dst_host_diff_srv_rate         float64\n",
              "dst_host_same_src_port_rate    float64\n",
              "dst_host_srv_diff_host_rate    float64\n",
              "target                          object\n",
              "Attack Type                     object\n",
              "dtype: object"
            ]
          },
          "execution_count": 33,
          "metadata": {},
          "output_type": "execute_result"
        }
      ],
      "source": [
        "df.dtypes"
      ]
    },
    {
      "cell_type": "markdown",
      "metadata": {
        "id": "DwfEUG_-fWn_"
      },
      "source": [
        "# **Modelling**"
      ]
    },
    {
      "cell_type": "code",
      "execution_count": null,
      "metadata": {
        "colab": {
          "base_uri": "https://localhost:8080/"
        },
        "id": "c1qo0Jt1r2b1",
        "outputId": "7b84c10f-8ee4-43e6-f367-83cba05e5db3"
      },
      "outputs": [
        {
          "name": "stdout",
          "output_type": "stream",
          "text": [
            "(6997, 26)\n"
          ]
        }
      ],
      "source": [
        "from sklearn.model_selection import train_test_split\n",
        "from sklearn.preprocessing import MinMaxScaler\n",
        "from sklearn.metrics import accuracy_score\n",
        "df = df.drop(['target', ], axis = 1)\n",
        "print(df.shape)"
      ]
    },
    {
      "cell_type": "code",
      "execution_count": null,
      "metadata": {
        "colab": {
          "base_uri": "https://localhost:8080/"
        },
        "id": "KXaxFEbte2Ad",
        "outputId": "ad0296b6-0dc2-4f63-f574-fac38bb82889"
      },
      "outputs": [
        {
          "name": "stdout",
          "output_type": "stream",
          "text": [
            "(5597, 25) (1400, 25)\n",
            "(5597, 1) (1400, 1)\n"
          ]
        }
      ],
      "source": [
        "Y = df[['Attack Type']]\n",
        "X = df.drop(['Attack Type',], axis=1)\n",
        "\n",
        "sc = MinMaxScaler()\n",
        "X = sc.fit_transform(X)\n",
        "\n",
        "# Split test and train data\n",
        "X_train, X_test, Y_train, Y_test = train_test_split(X, Y, test_size=0.20, random_state=42)\n",
        "print(X_train.shape, X_test.shape)\n",
        "print(Y_train.shape, Y_test.shape)"
      ]
    },
    {
      "cell_type": "code",
      "execution_count": null,
      "metadata": {
        "colab": {
          "base_uri": "https://localhost:8080/"
        },
        "id": "M5P-IqmAg8z2",
        "outputId": "8b934b2a-5046-40e6-e18d-92b83aaeffa2"
      },
      "outputs": [
        {
          "data": {
            "text/plain": [
              "(6997, 26)"
            ]
          },
          "execution_count": 36,
          "metadata": {},
          "output_type": "execute_result"
        }
      ],
      "source": [
        "df=df.dropna()\n",
        "df.shape"
      ]
    },
    {
      "cell_type": "code",
      "execution_count": null,
      "metadata": {
        "colab": {
          "base_uri": "https://localhost:8080/"
        },
        "id": "ygEe4ZhlkLon",
        "outputId": "8d48d0eb-bf13-4949-d6ce-2eeea5751ef6"
      },
      "outputs": [
        {
          "name": "stdout",
          "output_type": "stream",
          "text": [
            "Train score is: 0.9998213328568876\n",
            "Test score is: 0.9992857142857143\n"
          ]
        }
      ],
      "source": [
        "from sklearn.tree import DecisionTreeClassifier\n",
        "model1 = DecisionTreeClassifier(criterion=\"entropy\", max_depth = 4)\n",
        "\n",
        "model1.fit(X_train, Y_train.values.ravel())\n",
        "\n",
        "\n",
        "\n",
        "Y_test_pred1 = model1.predict(X_test)\n",
        "\n",
        "\n",
        "print(\"Train score is:\", model1.score(X_train, Y_train))\n",
        "print(\"Test score is:\",model1.score(X_test,Y_test))\n"
      ]
    },
    {
      "cell_type": "code",
      "execution_count": null,
      "metadata": {
        "colab": {
          "base_uri": "https://localhost:8080/"
        },
        "id": "sWVAnGDXkfOZ",
        "outputId": "d6ae23b9-ab9c-49d7-abfe-0d708ffbf86a"
      },
      "outputs": [
        {
          "name": "stdout",
          "output_type": "stream",
          "text": [
            "Train score is: 0.9998213328568876\n",
            "Test score is: 0.9992857142857143\n"
          ]
        }
      ],
      "source": [
        "from sklearn.ensemble import RandomForestClassifier\n",
        "model2 = RandomForestClassifier(n_estimators=30)\n",
        "model2.fit(X_train, Y_train.values.ravel())\n",
        "Y_test_pred2 = model2.predict(X_test)\n",
        "print(\"Train score is:\", model2.score(X_train, Y_train))\n",
        "print(\"Test score is:\",model2.score(X_test,Y_test))"
      ]
    },
    {
      "cell_type": "code",
      "execution_count": null,
      "metadata": {
        "colab": {
          "base_uri": "https://localhost:8080/"
        },
        "id": "gs2IxeG26z3B",
        "outputId": "679b8d17-b908-44af-ee0f-9a737c0cc2bb"
      },
      "outputs": [
        {
          "name": "stdout",
          "output_type": "stream",
          "text": [
            "Train accuracy is: 0.9996426657137752\n",
            "Test accuracy is: 0.9992857142857143\n"
          ]
        }
      ],
      "source": [
        "from sklearn.linear_model import LogisticRegression\n",
        "from sklearn.model_selection import train_test_split\n",
        "from sklearn.metrics import accuracy_score\n",
        "\n",
        "\n",
        "# Creating the Logistic Regression model\n",
        "model3 = LogisticRegression(max_iter=1000)  # You can adjust max_iter as needed\n",
        "\n",
        "# Fitting the model on the training data\n",
        "model3.fit(X_train, Y_train.values.ravel())\n",
        "\n",
        "# Predicting on test data\n",
        "Y_test_pred3 = model3.predict(X_test)\n",
        "\n",
        "# Calculating the accuracy score on both training and test sets\n",
        "train_accuracy = accuracy_score(Y_train, model3.predict(X_train))\n",
        "test_accuracy = accuracy_score(Y_test, Y_test_pred3)\n",
        "\n",
        "print(\"Train accuracy is:\", train_accuracy)\n",
        "print(\"Test accuracy is:\", test_accuracy)"
      ]
    },
    {
      "cell_type": "code",
      "execution_count": null,
      "metadata": {
        "colab": {
          "base_uri": "https://localhost:8080/"
        },
        "id": "MCAx1KzLRJqs",
        "outputId": "48cbba65-c003-4dd9-c37f-340e7881bef0"
      },
      "outputs": [
        {
          "name": "stdout",
          "output_type": "stream",
          "text": [
            "Train accuracy is: 0.9998213328568876\n",
            "Test accuracy is: 0.9992857142857143\n"
          ]
        }
      ],
      "source": [
        "from sklearn.svm import SVC\n",
        "from sklearn.model_selection import train_test_split\n",
        "from sklearn.metrics import accuracy_score\n",
        "\n",
        "\n",
        "# Creating the SVM classifier\n",
        "model4 = SVC(kernel='linear', C=1.0)  # You can adjust the kernel and C parameter as needed\n",
        "\n",
        "# Fitting the model on the training data\n",
        "model4.fit(X_train, Y_train.values.ravel())\n",
        "\n",
        "# Predicting on the test data\n",
        "Y_test_pred4 = model4.predict(X_test)\n",
        "\n",
        "# Calculating the accuracy score on both training and test sets\n",
        "train_accuracy = accuracy_score(Y_train, model4.predict(X_train))\n",
        "test_accuracy = accuracy_score(Y_test, Y_test_pred4)\n",
        "\n",
        "print(\"Train accuracy is:\", train_accuracy)\n",
        "print(\"Test accuracy is:\", test_accuracy)"
      ]
    },
    {
      "cell_type": "code",
      "execution_count": null,
      "metadata": {
        "id": "w4KFW4FlD97F"
      },
      "outputs": [],
      "source": [
        "import pickle\n",
        "\n",
        "# Replace 'model' with your trained model\n",
        "# Example: model = RandomForestClassifier()\n",
        "# Make sure your model is already trained before saving it\n",
        "# You can replace 'model' with your actual trained model object\n",
        "model = model3\n",
        "\n",
        "# Specify the file path where you want to save the model\n",
        "# Replace 'your_model_file.pkl' with your desired file name\n",
        "model_file_path = 'IDS_Model.pkl'\n",
        "\n",
        "# Save the model to a .pkl file\n",
        "with open(model_file_path, 'wb') as model_file:\n",
        "    pickle.dump(model, model_file)\n"
      ]
    },
    {
      "cell_type": "code",
      "execution_count": null,
      "metadata": {
        "colab": {
          "base_uri": "https://localhost:8080/"
        },
        "id": "BsQje05lEbIm",
        "outputId": "38442b8f-a494-442b-897b-4836c8c1ac14"
      },
      "outputs": [
        {
          "data": {
            "text/plain": [
              "duration                         int64\n",
              "protocol_type                    int64\n",
              "flag                             int64\n",
              "src_bytes                        int64\n",
              "dst_bytes                        int64\n",
              "hot                              int64\n",
              "logged_in                        int64\n",
              "num_compromised                  int64\n",
              "root_shell                       int64\n",
              "num_file_creations               int64\n",
              "num_shells                       int64\n",
              "num_access_files                 int64\n",
              "is_guest_login                   int64\n",
              "count                            int64\n",
              "srv_count                        int64\n",
              "serror_rate                    float64\n",
              "rerror_rate                    float64\n",
              "same_srv_rate                  float64\n",
              "diff_srv_rate                  float64\n",
              "srv_diff_host_rate             float64\n",
              "dst_host_count                   int64\n",
              "dst_host_srv_count               int64\n",
              "dst_host_diff_srv_rate         float64\n",
              "dst_host_same_src_port_rate    float64\n",
              "dst_host_srv_diff_host_rate    float64\n",
              "Attack Type                     object\n",
              "dtype: object"
            ]
          },
          "execution_count": 44,
          "metadata": {},
          "output_type": "execute_result"
        }
      ],
      "source": [
        "df.dtypes"
      ]
    },
    {
      "cell_type": "code",
      "execution_count": null,
      "metadata": {
        "colab": {
          "base_uri": "https://localhost:8080/"
        },
        "id": "H_L-9tWEEdDE",
        "outputId": "c22b2c3d-07bd-4d4f-8a82-3c15bb256a29"
      },
      "outputs": [
        {
          "data": {
            "text/plain": [
              "array([[0.  , 0.5 , 0.  , ..., 0.  , 0.11, 0.  ],\n",
              "       [0.  , 0.5 , 0.  , ..., 0.  , 0.05, 0.  ],\n",
              "       [0.  , 0.5 , 0.  , ..., 0.  , 0.03, 0.  ],\n",
              "       ...,\n",
              "       [0.  , 0.5 , 0.  , ..., 0.  , 0.  , 0.  ],\n",
              "       [0.  , 0.5 , 0.  , ..., 0.  , 0.01, 0.  ],\n",
              "       [0.  , 0.5 , 0.  , ..., 0.  , 0.  , 0.  ]])"
            ]
          },
          "execution_count": 46,
          "metadata": {},
          "output_type": "execute_result"
        }
      ],
      "source": [
        "X"
      ]
    },
    {
      "cell_type": "code",
      "execution_count": null,
      "metadata": {
        "id": "-KEyfohhE6Zd"
      },
      "outputs": [],
      "source": [
        "df.drop(columns=['Attack Type'],inplace=True)"
      ]
    },
    {
      "cell_type": "code",
      "execution_count": null,
      "metadata": {
        "colab": {
          "base_uri": "https://localhost:8080/"
        },
        "id": "IOtW4PYmFJD8",
        "outputId": "ec95eedf-6656-4e73-b16e-fed76db08fb4"
      },
      "outputs": [
        {
          "data": {
            "text/plain": [
              "duration                         int64\n",
              "protocol_type                    int64\n",
              "flag                             int64\n",
              "src_bytes                        int64\n",
              "dst_bytes                        int64\n",
              "hot                              int64\n",
              "logged_in                        int64\n",
              "num_compromised                  int64\n",
              "root_shell                       int64\n",
              "num_file_creations               int64\n",
              "num_shells                       int64\n",
              "num_access_files                 int64\n",
              "is_guest_login                   int64\n",
              "count                            int64\n",
              "srv_count                        int64\n",
              "serror_rate                    float64\n",
              "rerror_rate                    float64\n",
              "same_srv_rate                  float64\n",
              "diff_srv_rate                  float64\n",
              "srv_diff_host_rate             float64\n",
              "dst_host_count                   int64\n",
              "dst_host_srv_count               int64\n",
              "dst_host_diff_srv_rate         float64\n",
              "dst_host_same_src_port_rate    float64\n",
              "dst_host_srv_diff_host_rate    float64\n",
              "dtype: object"
            ]
          },
          "execution_count": 49,
          "metadata": {},
          "output_type": "execute_result"
        }
      ],
      "source": [
        "df.dtypes"
      ]
    },
    {
      "cell_type": "code",
      "execution_count": null,
      "metadata": {
        "id": "fIoF8gkDFLpL"
      },
      "outputs": [],
      "source": [
        "df.to_csv('IDS.csv')"
      ]
    },
    {
      "cell_type": "code",
      "execution_count": null,
      "metadata": {
        "id": "_GxC2MM-FTFF"
      },
      "outputs": [],
      "source": []
    }
  ],
  "metadata": {
    "colab": {
      "provenance": [],
      "include_colab_link": true
    },
    "kernelspec": {
      "display_name": "Python 3",
      "name": "python3"
    },
    "language_info": {
      "name": "python"
    }
  },
  "nbformat": 4,
  "nbformat_minor": 0
}